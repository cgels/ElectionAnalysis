{
 "cells": [
  {
   "cell_type": "markdown",
   "metadata": {},
   "source": [
    "## Use k-Means clustering on economic, racial, age, district size, mean distance in voting behavior"
   ]
  },
  {
   "cell_type": "markdown",
   "metadata": {},
   "source": [
    "- get dataframe from CSVs\n",
    "- construct desired sets of predictors\n",
    "- prepare labels\n",
    "- run cluster algo\n",
    "- encode clusters into existing data frame\n",
    "- visual clusters\n",
    "- identify cluster-defining properties"
   ]
  },
  {
   "cell_type": "code",
   "execution_count": 1,
   "metadata": {
    "collapsed": false
   },
   "outputs": [],
   "source": [
    "import pandas as pd\n",
    "import numpy as np\n",
    "from sklearn import cluster as skclust\n",
    "from sklearn import preprocessing as skproc\n",
    "from sklearn import metrics as skmetric\n",
    "import matplotlib.pyplot as plt\n",
    "import time\n",
    "import re\n",
    "%matplotlib inline"
   ]
  },
  {
   "cell_type": "code",
   "execution_count": 2,
   "metadata": {
    "collapsed": true
   },
   "outputs": [],
   "source": [
    "df = pd.read_csv(\"data/county_facts.csv\")"
   ]
  },
  {
   "cell_type": "code",
   "execution_count": 3,
   "metadata": {
    "collapsed": true
   },
   "outputs": [],
   "source": [
    "rename_map={\"PST045214\": \"Pop2014\",\n",
    "            \"PST040210\": \"Pop2010EST\",\n",
    "            \"PST120214\": \"Pop%Change\",\n",
    "            \"POP010210\": \"Pop2010\",\n",
    "            \"AGE135214\": \"Under5%\",\n",
    "            \"AGE295214\": \"Under18%\",\n",
    "            \"AGE775214\": \"Over65%\",\n",
    "            \"SEX255214\": \"Female%\",\n",
    "            \"RHI125214\": \"White%\",\n",
    "            \"RHI225214\": \"Black%\",\n",
    "            \"RHI325214\": \"NativeA%\",\n",
    "            \"RHI425214\": \"Asian%\",\n",
    "            \"RHI525214\": \"PIsland%\",\n",
    "            \"RHI625214\": \"TwoRace%\",\n",
    "            \"RHI725214\": \"Latino\",\n",
    "            \"RHI825214\": \"WhiteNLat%\",\n",
    "            \"POP715213\": \"SameHouse1yr%\",\n",
    "            \"POP645213\": \"ForeignBorn%\",\n",
    "            \"POP815213\": \"NonEnglish%\",\n",
    "            \"EDU635213\": \"HighSchoolGrad%\",\n",
    "            \"EDU685213\": \"Bachelor%\",\n",
    "            \"VET605213\": \"Veteran\",\n",
    "            \"LFE305213\": \"TravelTime\",\n",
    "            \"HSG010214\": \"HousingUnits\",\n",
    "            \"HSG445213\": \"OwnershipRate\",\n",
    "            \"HSG096213\": \"UnitsinMultiUnit%\",\n",
    "            \"HSG495213\": \"MedianValueHousing\",\n",
    "            \"HSD410213\": \"Households\",\n",
    "            \"INC910213\": \"PerCapitaIncome\",\n",
    "            \"INC110213\": \"MedianIncome\",\n",
    "            \"PVY020213\": \"%BelowPoverty\",\n",
    "            \"BZA010213\": \"PrivateNotFarmsEstablish\",\n",
    "            \"BZA110213\": \"PrivateNotFarmEmploy\",\n",
    "            \"BZA115213\": \"NotFarm%Change\",\n",
    "            \"NES010213\": \"NonEmployerEstablish\",\n",
    "            \"SBO315207\": \"Black-owned%\",\n",
    "            \"SBO115207\": \"Native-owned%\",\n",
    "            \"SBO215207\": \"Asian-owned%\",\n",
    "            \"SBO515207\": \"PIslnder-owned%\",\n",
    "            \"SBO415207\": \"Hispanic-owned%\",\n",
    "            \"SBO015207\": \"Woman-owned\",\n",
    "            \"MAN450207\": \"Manfact shipments 1k\",\n",
    "            \"WTN220207\": \"Merchant sales 1k\",\n",
    "            \"RTN130207\": \"Retail sales 1k\",\n",
    "            \"RTN131207\": \"Retail sales/capita\",\n",
    "            \"AFN120207\": \"Accomd/FoodServ sales 1k\",\n",
    "            \"BPS030214\": \"BuildingPermits\",\n",
    "            \"LND110210\": \"LandArea\",\n",
    "            \"POP060210\": \"Pop/SqMile\"}\n",
    "df=df.rename(index=str,columns=rename_map)"
   ]
  },
  {
   "cell_type": "code",
   "execution_count": 4,
   "metadata": {
    "collapsed": false
   },
   "outputs": [],
   "source": [
    "## aggregate state/national data hold NaN values in state_abbrev\n",
    "counties = df.dropna()\n",
    "not_counties = df[~df.index.isin(counties.index)]"
   ]
  },
  {
   "cell_type": "code",
   "execution_count": 5,
   "metadata": {
    "collapsed": false
   },
   "outputs": [],
   "source": [
    "cf_dict = pd.read_csv(\"data/county_facts_dictionary.csv\")\n",
    "cf_dict = cf_dict.rename(index=str,columns=rename_map)"
   ]
  },
  {
   "cell_type": "code",
   "execution_count": 6,
   "metadata": {
    "collapsed": false
   },
   "outputs": [
    {
     "data": {
      "text/html": [
       "<div>\n",
       "<table border=\"1\" class=\"dataframe\">\n",
       "  <thead>\n",
       "    <tr style=\"text-align: right;\">\n",
       "      <th></th>\n",
       "      <th>column_name</th>\n",
       "      <th>description</th>\n",
       "    </tr>\n",
       "  </thead>\n",
       "  <tbody>\n",
       "    <tr>\n",
       "      <th>0</th>\n",
       "      <td>PST045214</td>\n",
       "      <td>Population, 2014 estimate</td>\n",
       "    </tr>\n",
       "    <tr>\n",
       "      <th>1</th>\n",
       "      <td>PST040210</td>\n",
       "      <td>Population, 2010 (April 1) estimates base</td>\n",
       "    </tr>\n",
       "    <tr>\n",
       "      <th>2</th>\n",
       "      <td>PST120214</td>\n",
       "      <td>Population, percent change - April 1, 2010 to ...</td>\n",
       "    </tr>\n",
       "    <tr>\n",
       "      <th>3</th>\n",
       "      <td>POP010210</td>\n",
       "      <td>Population, 2010</td>\n",
       "    </tr>\n",
       "    <tr>\n",
       "      <th>4</th>\n",
       "      <td>AGE135214</td>\n",
       "      <td>Persons under 5 years, percent, 2014</td>\n",
       "    </tr>\n",
       "  </tbody>\n",
       "</table>\n",
       "</div>"
      ],
      "text/plain": [
       "  column_name                                        description\n",
       "0   PST045214                          Population, 2014 estimate\n",
       "1   PST040210          Population, 2010 (April 1) estimates base\n",
       "2   PST120214  Population, percent change - April 1, 2010 to ...\n",
       "3   POP010210                                   Population, 2010\n",
       "4   AGE135214               Persons under 5 years, percent, 2014"
      ]
     },
     "execution_count": 6,
     "metadata": {},
     "output_type": "execute_result"
    }
   ],
   "source": [
    "cf_dict.head()"
   ]
  },
  {
   "cell_type": "code",
   "execution_count": 7,
   "metadata": {
    "collapsed": false
   },
   "outputs": [],
   "source": [
    "vote_data = pd.read_csv(\"data/US_County_Level_Presidential_Results_12-16.csv\").rename(columns={\"FIPS\":\"fips\"})\n",
    "rm = ['combined_fips', 'state_abbr', 'Unnamed: 0', 'county_name', 'county_fips', 'state_fips']\n",
    "counties = pd.merge(counties, vote_data, on=\"fips\").drop(rm, axis=1).dropna()\n",
    "### LOSE ALASKAN COUNTY DATA"
   ]
  },
  {
   "cell_type": "markdown",
   "metadata": {},
   "source": [
    "\n",
    "Make subsets for various clustering parameters."
   ]
  },
  {
   "cell_type": "code",
   "execution_count": 8,
   "metadata": {
    "collapsed": false
   },
   "outputs": [],
   "source": [
    "### County size / population density\n",
    "geographic_predictors =  [\"Pop/SqMile\"]\n",
    "\n",
    "#### Population/Age/Education\n",
    "county_demog_predictors = [\"Pop%Change\", \"Under5%\",\"Under18%\", \"Over65%\",\n",
    "                          \"HighSchoolGrad%\",\"Bachelor%\", \"Veteran\"]\n",
    "### HOUSING \n",
    "housing_predictors = [\"SameHouse1yr%\", \"TravelTime\", \"HousingUnits\", \"OwnershipRate\", \"UnitsinMultiUnit%\",\n",
    "                        \"MedianValueHousing\", \"Households\"]\n",
    "### ECONOMIC\n",
    "econ_predictors = [\"PerCapitaIncome\", \"MedianIncome\", \"%BelowPoverty\", \"PrivateNotFarmsEstablish\",\n",
    "                   \"PrivateNotFarmEmploy\", \"NotFarm%Change\", \"NonEmployerEstablish\",\"Manfact shipments 1k\",\n",
    "                   \"Merchant sales 1k\", \"Retail sales/capita\", \"Retail sales/capita\", \"BuildingPermits\"]\n",
    "##### ETHNIC \n",
    "racial_predictors = [\"Female%\", \"White%\", \"Black%\",\"NativeA%\",\"Asian%\",\"PIsland%\",\n",
    "                     \"TwoRace%\",\"Latino\",\"WhiteNLat%\",\"ForeignBorn%\",\n",
    "                     \"NonEnglish%\"]\n",
    "#### ETHNIC ECONO\n",
    "racial_econo_predictors = [\"Black-owned%\",\"Native-owned%\",\"Asian-owned%\",\"PIslnder-owned%\",\"Woman-owned\"]\n",
    "\n",
    "## VOTING\n",
    "vote_predictors = ['total_votes_2016', 'per_dem_2016', 'per_gop_2016', 'per_point_diff_2016',\n",
    "                   'total_votes_2012', 'per_dem_2012', 'per_gop_2012', 'per_point_diff_2012', \"turnout_2016\", \"turnout_2012\"]\n",
    "#     ['votes_dem_2016', 'votes_gop_2016', 'total_votes_2016', 'per_dem_2016',\n",
    "#        'per_gop_2016', 'diff_2016', 'per_point_diff_2016', 'total_votes_2012',\n",
    "#        'votes_dem_2012', 'votes_gop_2012', 'per_dem_2012', 'per_gop_2012',\n",
    "#        'diff_2012', 'per_point_diff_2012']"
   ]
  },
  {
   "cell_type": "markdown",
   "metadata": {},
   "source": [
    "create some features for voting date to determine turnout"
   ]
  },
  {
   "cell_type": "code",
   "execution_count": 9,
   "metadata": {
    "collapsed": true
   },
   "outputs": [],
   "source": [
    "counties[\"turnout_2016\"] = counties.total_votes_2016 / counties.Pop2014\n",
    "counties[\"turnout_2012\"] = counties.total_votes_2012 / counties.Pop2010"
   ]
  },
  {
   "cell_type": "markdown",
   "metadata": {},
   "source": [
    "### Lets look at summary of various cluster parameters\n",
    "##### County Demographics"
   ]
  },
  {
   "cell_type": "code",
   "execution_count": 10,
   "metadata": {
    "collapsed": true
   },
   "outputs": [],
   "source": [
    "# counties[county_demog_predictors].describe()"
   ]
  },
  {
   "cell_type": "markdown",
   "metadata": {},
   "source": [
    "#### Economic "
   ]
  },
  {
   "cell_type": "code",
   "execution_count": 11,
   "metadata": {
    "collapsed": true
   },
   "outputs": [],
   "source": [
    "# counties[econ_predictors].describe()"
   ]
  },
  {
   "cell_type": "markdown",
   "metadata": {},
   "source": [
    "#### Racial / Ethnic / Gender"
   ]
  },
  {
   "cell_type": "code",
   "execution_count": 12,
   "metadata": {
    "collapsed": true
   },
   "outputs": [],
   "source": [
    "# counties[racial_predictors].describe()"
   ]
  },
  {
   "cell_type": "code",
   "execution_count": 13,
   "metadata": {
    "collapsed": true
   },
   "outputs": [],
   "source": [
    "# counties[vote_predictors].describe()"
   ]
  },
  {
   "cell_type": "markdown",
   "metadata": {},
   "source": [
    "### Silhouette Analysis for tuning k "
   ]
  },
  {
   "cell_type": "code",
   "execution_count": 14,
   "metadata": {
    "collapsed": true
   },
   "outputs": [],
   "source": [
    "def encode_clusters(data, col_key, label_mat, kth_score, best_k_dict, descrip):\n",
    "    best_k_dict[descrip] = np.argmax(kth_score[descrip]) + 2\n",
    "    data[col_key] = label_mat[best_k_dict[descrip]-2] ## store labels for best k\n",
    "    data = pd.get_dummies(data, columns=[col_key])        \n",
    "    data[col_key] = label_mat[best_k_dict[descrip] - 2] ##replace what get_dummies removed\n",
    "    return data, best_k_dict"
   ]
  },
  {
   "cell_type": "markdown",
   "metadata": {},
   "source": [
    "##### kMeans clustering."
   ]
  },
  {
   "cell_type": "code",
   "execution_count": 24,
   "metadata": {
    "collapsed": false
   },
   "outputs": [],
   "source": [
    "def cluster_experiment_kmeans(data, predictor_lists:dict, max_clusters=20, scoring=\"sil\"):\n",
    "    start = time.time()\n",
    "    best_k_dict = {}\n",
    "    col_names = []\n",
    "    kth_score = {}\n",
    "    for descrip, X in predictor_lists.items():\n",
    "        kth_score[descrip] = []\n",
    "        label_mat = []\n",
    "        col_key = descrip + \"_kmeans\"\n",
    "        #normalize feature space\n",
    "        X = skproc.minmax_scale(data[X], copy=False)\n",
    "        \n",
    "        ## run kmeans for each k [0,max_cluster]\n",
    "        for k in range(2, max_clusters):\n",
    "            kmeans = skclust.KMeans(n_clusters=k, n_jobs=-1, precompute_distances=True, n_init=15)\n",
    "            kmeans.fit_predict(X)\n",
    "            label_mat.append(kmeans.labels_)\n",
    "            ##silhouette analysis\n",
    "            if scoring == \"sil\":\n",
    "                kth_score[descrip].append(skmetric.silhouette_score(X, label_mat[k - 2]))\n",
    "            else:\n",
    "                kth_score[descrip].append(skmetric.calinski_harabaz_score(X, label_mat[k - 2]))            \n",
    "\n",
    "        ## add best cluster set to dataframe\n",
    "        data, best_k_dict = encode_clusters(data, col_key, label_mat, kth_score, best_k_dict, descrip)\n",
    "        #update with th new column names\n",
    "        col_names.extend([col_key+\"_\"+str(int(k)) for k in range(best_k_dict[descrip])])\n",
    "    \n",
    "    print(\"Runtime: \", time.time() - start)\n",
    "    return data, col_names, best_k_dict, kth_score\n",
    "            \n",
    "                "
   ]
  },
  {
   "cell_type": "markdown",
   "metadata": {},
   "source": [
    "##### Agglomerative clustering."
   ]
  },
  {
   "cell_type": "code",
   "execution_count": 25,
   "metadata": {
    "collapsed": true
   },
   "outputs": [],
   "source": [
    "def cluster_experiment_agglom(data, predictor_lists:dict, max_clusters=20, scoring=\"sil\"):\n",
    "    start = time.time()\n",
    "    best_k_dict = {}\n",
    "    col_names = []\n",
    "    kth_score = {}\n",
    "    for descrip, X in predictor_lists.items():\n",
    "        kth_score[descrip] = []\n",
    "        label_mat = []\n",
    "        col_key = descrip + \"_agglo\"\n",
    "        #normalize feature space\n",
    "        X = skproc.minmax_scale(data[X], copy=False)\n",
    "\n",
    "        for k in range(2, max_clusters):\n",
    "            agglo = skclust.AgglomerativeClustering(n_clusters=k, linkage=\"average\")\n",
    "            agglo.fit_predict(X)\n",
    "            ##silhouette analysis\n",
    "            label_mat.append(agglo.labels_)\n",
    "            if scoring == \"sil\":\n",
    "                kth_score[descrip].append(skmetric.silhouette_score(X, label_mat[k - 2]))\n",
    "            else:\n",
    "                kth_score[descrip].append(skmetric.calinski_harabaz_score(X, label_mat[k - 2]))\n",
    "\n",
    "        ## add best cluster set to dataframe\n",
    "        data, best_k_dict = encode_clusters(data, col_key, label_mat, kth_score, best_k_dict, descrip)\n",
    "        #update with th new column names\n",
    "        col_names.extend([col_key+\"_\"+str(int(k)) for k in range(best_k_dict[descrip])])\n",
    "\n",
    "    print(\"Runtime: \", time.time() - start)\n",
    "    return data, col_names, best_k_dict, kth_score"
   ]
  },
  {
   "cell_type": "markdown",
   "metadata": {},
   "source": [
    "##### Spectral Clustering"
   ]
  },
  {
   "cell_type": "code",
   "execution_count": 54,
   "metadata": {
    "collapsed": true
   },
   "outputs": [],
   "source": [
    "def cluster_experiment_spectral(data, predictor_lists:dict, max_clusters=8, scoring=\"sil\"):\n",
    "    start = time.time()\n",
    "    best_k_dict = {}\n",
    "    col_names = []\n",
    "    kth_score = {}\n",
    "    for descrip, X in predictor_lists.items():\n",
    "        kth_score[descrip] = []\n",
    "        label_mat = []\n",
    "        col_key = descrip + \"_spectral\"\n",
    "        #normalize feature space\n",
    "        X = skproc.normalize(data[X])\n",
    "        \n",
    "        ## run kmeans for each k [0,max_cluster]\n",
    "        for k in range(2, max_clusters):\n",
    "            spec = skclust.SpectralClustering(n_clusters=k, n_jobs=-1)\n",
    "            spec.fit_predict(X)\n",
    "            ##silhouette analysis\n",
    "            label_mat.append(spec.labels_)\n",
    "            if scoring == \"sil\":\n",
    "                kth_score[descrip].append(skmetric.silhouette_score(X, label_mat[k - 2]))\n",
    "            else:\n",
    "                kth_score[descrip].append(skmetric.calinski_harabaz_score(X, label_mat[k - 2]))\n",
    "        ## add best cluster set to dataframe\n",
    "        data, best_k_dict = encode_clusters(data, col_key, label_mat, kth_score, best_k_dict, descrip)\n",
    "        print(\"Processed - \", descrip)\n",
    "        #update with th new column names\n",
    "        col_names.extend([col_key+\"_\"+str(int(k)) for k in range(best_k_dict[descrip])])\n",
    "\n",
    "    print(\"Runtime: \", time.time() - start)\n",
    "    return data, col_names, best_k_dict, kth_score"
   ]
  },
  {
   "cell_type": "markdown",
   "metadata": {},
   "source": [
    "### Construct Feature Sets"
   ]
  },
  {
   "cell_type": "code",
   "execution_count": 27,
   "metadata": {
    "collapsed": true
   },
   "outputs": [],
   "source": [
    "X_dict={\"demographic\": county_demog_predictors, \"economic\": econ_predictors, \"racial\": racial_predictors,\n",
    "        \"geo\": geographic_predictors, \"housing\": housing_predictors, \"econXrace\": racial_econo_predictors,\n",
    "        \"voting\": vote_predictors}"
   ]
  },
  {
   "cell_type": "markdown",
   "metadata": {},
   "source": [
    "### Run cluster analysis on each list of predictors.\n",
    "#### kMeans, where 2 <= k < 20"
   ]
  },
  {
   "cell_type": "code",
   "execution_count": 28,
   "metadata": {
    "collapsed": false
   },
   "outputs": [
    {
     "name": "stdout",
     "output_type": "stream",
     "text": [
      "Runtime:  53.66054034233093\n"
     ]
    }
   ],
   "source": [
    "counties, kmeans_dummies, kmeans_k_dict, kmeans_sil_scores = cluster_experiment_kmeans(counties, X_dict, scoring=\"c_h\")"
   ]
  },
  {
   "cell_type": "markdown",
   "metadata": {},
   "source": [
    "##### Agglomerative, where 2 <= k < 20 using average linkage."
   ]
  },
  {
   "cell_type": "code",
   "execution_count": 29,
   "metadata": {
    "collapsed": false
   },
   "outputs": [
    {
     "name": "stdout",
     "output_type": "stream",
     "text": [
      "Runtime:  33.56705141067505\n"
     ]
    }
   ],
   "source": [
    "counties, agglo_dummies, agglo_k_dict, agglo_sil_score = cluster_experiment_agglom(counties, X_dict, scoring=\"c_h\")"
   ]
  },
  {
   "cell_type": "markdown",
   "metadata": {},
   "source": [
    "#### Spectral cluster, using Nearest Neighbors Affinity for 2 <= k < 15"
   ]
  },
  {
   "cell_type": "code",
   "execution_count": null,
   "metadata": {
    "collapsed": false
   },
   "outputs": [
    {
     "name": "stdout",
     "output_type": "stream",
     "text": [
      "Processed -  geo\n",
      "Processed -  demographic\n",
      "Processed -  racial\n",
      "Processed -  housing\n"
     ]
    }
   ],
   "source": [
    "counties, spec_dummies, spec_k_dict, spec_sil_score = cluster_experiment_spectral(counties, X_dict, scoring=\"sil\")"
   ]
  },
  {
   "cell_type": "markdown",
   "metadata": {},
   "source": [
    "### At this point, the clusters each clustering method is encoded into dataframe."
   ]
  },
  {
   "cell_type": "code",
   "execution_count": 44,
   "metadata": {
    "collapsed": false
   },
   "outputs": [],
   "source": [
    "data = counties"
   ]
  },
  {
   "cell_type": "code",
   "execution_count": 45,
   "metadata": {
    "collapsed": false
   },
   "outputs": [
    {
     "ename": "NameError",
     "evalue": "name 'spec_k_dict' is not defined",
     "output_type": "error",
     "traceback": [
      "\u001b[0;31m---------------------------------------------------------------------------\u001b[0m",
      "\u001b[0;31mNameError\u001b[0m                                 Traceback (most recent call last)",
      "\u001b[0;32m<ipython-input-45-b217b424956b>\u001b[0m in \u001b[0;36m<module>\u001b[0;34m()\u001b[0m\n\u001b[0;32m----> 1\u001b[0;31m \u001b[0mkmeans_k_dict\u001b[0m\u001b[0;34m,\u001b[0m \u001b[0magglo_k_dict\u001b[0m\u001b[0;34m,\u001b[0m \u001b[0mspec_k_dict\u001b[0m\u001b[0;34m\u001b[0m\u001b[0m\n\u001b[0m",
      "\u001b[0;31mNameError\u001b[0m: name 'spec_k_dict' is not defined"
     ]
    }
   ],
   "source": [
    "kmeans_k_dict, agglo_k_dict, spec_k_dict"
   ]
  },
  {
   "cell_type": "code",
   "execution_count": null,
   "metadata": {
    "collapsed": false
   },
   "outputs": [],
   "source": [
    "all_dummies = []\n",
    "all_dummies.extend(kmeans_dummies)\n",
    "all_dummies.extend(agglo_dummies)\n",
    "all_dummies.extend(spec_dummies)\n",
    "all_dummies = pd.Series(all_dummies).drop_duplicates()\n",
    "\n",
    "cluster_counts = data[all_dummies].sum()\n",
    "cluster_counts"
   ]
  },
  {
   "cell_type": "code",
   "execution_count": null,
   "metadata": {
    "collapsed": false
   },
   "outputs": [],
   "source": [
    "def extract_dummy_subset(prefix:str):\n",
    "    rtn = []\n",
    "    for ele in cluster_counts.index:\n",
    "        if prefix in ele:\n",
    "            rtn.append(ele)\n",
    "            \n",
    "    return rtn"
   ]
  },
  {
   "cell_type": "code",
   "execution_count": null,
   "metadata": {
    "collapsed": false
   },
   "outputs": [],
   "source": [
    "prefix=[\"racial\",\"demographic\",\"economic\",\"housing\",\"geo\",\"econXrace\", \"voting\"]\n",
    "subset_masks = { p : extract_dummy_subset(p) for p in prefix}"
   ]
  },
  {
   "cell_type": "code",
   "execution_count": null,
   "metadata": {
    "collapsed": false
   },
   "outputs": [],
   "source": [
    "data_by_subset = {key : data[subset_masks[key]] for key in kmeans_k_dict.keys()}\n",
    "data_by_subset[\"racial\"].columns"
   ]
  },
  {
   "cell_type": "markdown",
   "metadata": {},
   "source": [
    "create subgroups for each clustering type"
   ]
  },
  {
   "cell_type": "code",
   "execution_count": null,
   "metadata": {
    "collapsed": false,
    "scrolled": true
   },
   "outputs": [],
   "source": [
    "suffixes = [\"kmeans\", \"agglo\", \"spectral\"]\n",
    "def get_clusters(key, suf):\n",
    "    filt = { \"kmeans\": key+\"_kmeans\", \"agglo\" : key+\"_agglo\", \"spectral\": key+\"_spectral\"}\n",
    "    df = data_by_subset[key].copy()\n",
    "    cols=[]\n",
    "    hdrs=df.columns\n",
    "    for ele in hdrs:\n",
    "        if filt[suf] in str(ele):\n",
    "            cols.append(ele)\n",
    "    \n",
    "    return df[cols].sum().to_frame().T\n",
    "\n",
    "def plot_cluster(key, suffix, t):\n",
    "    f = plt.figure()\n",
    "    get_clusters(key, suffix).plot(kind='bar', ax=f.gca(), title=t + \" using \" + suffix, alpha=.8)\n",
    "    plt.legend(loc=\"right\", bbox_to_anchor=(1.75, .5))\n",
    "    plt.yticks()\n",
    "    return plt"
   ]
  },
  {
   "cell_type": "code",
   "execution_count": null,
   "metadata": {
    "collapsed": false
   },
   "outputs": [],
   "source": [
    "for i in range(3):\n",
    "    plot_cluster(\"racial\", suffixes[i], \"Racial Cluster Sizes\").show()"
   ]
  },
  {
   "cell_type": "markdown",
   "metadata": {},
   "source": [
    "- a couple of clusters are very large while the rest are very small"
   ]
  },
  {
   "cell_type": "code",
   "execution_count": null,
   "metadata": {
    "collapsed": false
   },
   "outputs": [],
   "source": [
    "for i in range(3):\n",
    "    plot_cluster(\"demographic\", suffixes[i], \"Demographic Cluster Sizes\").show()"
   ]
  },
  {
   "cell_type": "markdown",
   "metadata": {},
   "source": [
    "- cluster 0 is much smaller than the rest. "
   ]
  },
  {
   "cell_type": "code",
   "execution_count": null,
   "metadata": {
    "collapsed": false
   },
   "outputs": [],
   "source": [
    "for i in range(3):\n",
    "    plot_cluster(\"economic\", suffixes[i], \"Economic Cluster Sizes\").show()"
   ]
  },
  {
   "cell_type": "markdown",
   "metadata": {},
   "source": [
    "- cluster 4 seems significantly smaller than others."
   ]
  },
  {
   "cell_type": "code",
   "execution_count": null,
   "metadata": {
    "collapsed": false
   },
   "outputs": [],
   "source": [
    "for i in range(3):\n",
    "    plot_cluster(\"housing\", suffixes[i], \"Housing Cluster Sizes\").show()"
   ]
  },
  {
   "cell_type": "markdown",
   "metadata": {},
   "source": []
  },
  {
   "cell_type": "code",
   "execution_count": null,
   "metadata": {
    "collapsed": false
   },
   "outputs": [],
   "source": [
    "for i in range(3):\n",
    "    plot_cluster(\"geo\", suffixes[i], \"Geographic Cluster Sizes\").show()"
   ]
  },
  {
   "cell_type": "markdown",
   "metadata": {},
   "source": []
  },
  {
   "cell_type": "code",
   "execution_count": null,
   "metadata": {
    "collapsed": false
   },
   "outputs": [],
   "source": [
    "for i in range(3):\n",
    "    plot_cluster(\"econXrace\", suffixes[i], \"Socio-Economic Cluster Sizes\").show()"
   ]
  },
  {
   "cell_type": "markdown",
   "metadata": {},
   "source": []
  },
  {
   "cell_type": "code",
   "execution_count": null,
   "metadata": {
    "collapsed": false
   },
   "outputs": [],
   "source": [
    "for i in range(3):\n",
    "    plot_cluster(\"voting\", suffixes[i], \"Voting Behavior Cluster Sizes\").show()"
   ]
  }
 ],
 "metadata": {
  "kernelspec": {
   "display_name": "Python 3",
   "language": "python",
   "name": "python3"
  },
  "language_info": {
   "codemirror_mode": {
    "name": "ipython",
    "version": 3
   },
   "file_extension": ".py",
   "mimetype": "text/x-python",
   "name": "python",
   "nbconvert_exporter": "python",
   "pygments_lexer": "ipython3",
   "version": "3.5.2"
  }
 },
 "nbformat": 4,
 "nbformat_minor": 1
}
