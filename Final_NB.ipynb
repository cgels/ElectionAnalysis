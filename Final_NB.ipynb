{
 "cells": [
  {
   "cell_type": "markdown",
   "metadata": {},
   "source": [
    "### //TODO\n",
    "- tune classifier params\n",
    "- confusion matrix\n",
    "- add logistic regression"
   ]
  },
  {
   "cell_type": "code",
   "execution_count": 39,
   "metadata": {
    "collapsed": false
   },
   "outputs": [],
   "source": [
    "import itertools\n",
    "import pandas as pd\n",
    "import numpy as np\n",
    "from sklearn.model_selection import cross_val_score\n",
    "from sklearn.svm import SVC\n",
    "from sklearn.neighbors import KNeighborsClassifier\n",
    "from sklearn.metrics import confusion_matrix\n",
    "from sklearn.metrics import precision_recall_fscore_support\n",
    "from sklearn.linear_model import LogisticRegression\n",
    "import matplotlib.pyplot as plt\n",
    "from pandas.tools.plotting import table"
   ]
  },
  {
   "cell_type": "code",
   "execution_count": 40,
   "metadata": {
    "collapsed": true
   },
   "outputs": [],
   "source": [
    "df=pd.read_csv(\"ClustersCountiesVoting.csv\").drop('Unnamed: 0',axis=1)"
   ]
  },
  {
   "cell_type": "code",
   "execution_count": 41,
   "metadata": {
    "collapsed": false
   },
   "outputs": [
    {
     "name": "stdout",
     "output_type": "stream",
     "text": [
      "Current_Cluster 6\n",
      "Demographic_Cluster 7\n",
      "Economic_Cluster 9\n",
      "Owned_Cluster 7\n",
      "Age_Cluster 5\n",
      "Education_Cluster 6\n",
      "Housing_Cluster 7\n",
      "Combined_Cluster 10\n"
     ]
    }
   ],
   "source": [
    "for i in ['Current_Cluster',\n",
    "       'Demographic_Cluster', 'Economic_Cluster', 'Owned_Cluster',\n",
    "       'Age_Cluster', 'Education_Cluster', 'Housing_Cluster','Combined_Cluster']:\n",
    "    cols=pd.get_dummies(df[i])\n",
    "    strings=[]\n",
    "    for j in range(len(cols.columns)):\n",
    "        strings.append(i+str(j))\n",
    "        df[i+str(j)]=cols[cols.columns[j]]\n",
    "    print(i,len(cols.columns))\n",
    "    cols.columns=strings"
   ]
  },
  {
   "cell_type": "code",
   "execution_count": 42,
   "metadata": {
    "collapsed": true
   },
   "outputs": [],
   "source": [
    "df['Winner2016']=0\n",
    "df.ix[df['per_point_diff_2016']>0,'Winner2016']=1\n",
    "df['Winner2012']=0\n",
    "df.ix[df['per_point_diff_2012']>0,'Winner2012']=1\n",
    "dems=df[df['Winner2016']==1]"
   ]
  },
  {
   "cell_type": "code",
   "execution_count": 43,
   "metadata": {
    "collapsed": true
   },
   "outputs": [],
   "source": [
    "demographic=[\"Demographic_Cluster0\",\"Demographic_Cluster1\",\"Demographic_Cluster2\",\"Demographic_Cluster3\",\n",
    "            \"Demographic_Cluster4\",\"Demographic_Cluster5\",\"Demographic_Cluster6\"]\n",
    "economic=[\"Economic_Cluster0\",\"Economic_Cluster1\",\"Economic_Cluster2\",\"Economic_Cluster3\",\n",
    "            \"Economic_Cluster4\",\"Economic_Cluster5\",\"Economic_Cluster6\",\"Economic_Cluster7\",\"Economic_Cluster8\"]\n",
    "econ=[\"Economic_Cluster0\"]\n",
    "education=[\"Education_Cluster0\",\"Education_Cluster1\",\"Education_Cluster2\",\"Education_Cluster3\",\"Education_Cluster4\",\n",
    "                \"Education_Cluster5\"]"
   ]
  },
  {
   "cell_type": "markdown",
   "metadata": {},
   "source": [
    "## Classification algos & tuning"
   ]
  },
  {
   "cell_type": "code",
   "execution_count": 44,
   "metadata": {
    "collapsed": true
   },
   "outputs": [],
   "source": [
    "def mean_f_score(truth, pred):\n",
    "    return precision_recall_fscore_support(truth, pred, average='micro')[2]"
   ]
  },
  {
   "cell_type": "code",
   "execution_count": 45,
   "metadata": {
    "collapsed": true
   },
   "outputs": [],
   "source": [
    "def get_classifiers(X, Y):\n",
    "    models = []\n",
    "    \n",
    "    svc = SVC()\n",
    "    svc.fit(X, Y)\n",
    "    models.append(svc)\n",
    "    \n",
    "    knn = KNeighborsClassifier(n_jobs=-1, weights='distance')\n",
    "    knn.fit(X, Y)\n",
    "    models.append(knn)\n",
    "    \n",
    "    logit = LogisticRegression(n_jobs=-1)\n",
    "    logit.fit(X,Y)\n",
    "    models.append(logit)\n",
    "    \n",
    "    return models"
   ]
  },
  {
   "cell_type": "code",
   "execution_count": 46,
   "metadata": {
    "collapsed": false
   },
   "outputs": [],
   "source": [
    "def get_predictor_strings():\n",
    "    pre = [\"svc\", \"knn\", \"logit\"]\n",
    "    yr =  [\"2012\", \"2016\"]\n",
    "    suf = [\"all\", \"subset\"]\n",
    "    return [p + \"_\" + y + \"_\" + s for s in suf for y in yr for p in pre]\n"
   ]
  },
  {
   "cell_type": "code",
   "execution_count": 47,
   "metadata": {
    "collapsed": false
   },
   "outputs": [],
   "source": [
    "def clusteringalgo_fscore(x, y, y2, df, df2):\n",
    "    names = get_predictor_strings()\n",
    "    predictions = [] * len(names)\n",
    "    \n",
    "    frames = [df, df, df2, df2]\n",
    "    C = get_classifiers(df[x], df[y])\n",
    "    for d in frames:\n",
    "        for c in C:\n",
    "            predictions.append(c.predict(d[x]))\n",
    "            \n",
    "    out = []\n",
    "    for i in range(len(names)):\n",
    "        k = names[i]\n",
    "        if \"2012\" in k:\n",
    "            if \"all\" in k:\n",
    "                out.append((k, mean_f_score(df[y], predictions[i]), confusion_matrix(df[y], predictions[i])))\n",
    "            else:\n",
    "                out.append((k, mean_f_score(df2[y], predictions[i]), confusion_matrix(df2[y], predictions[i])))\n",
    "        else:\n",
    "            if \"all\" in k:\n",
    "                out.append((k, mean_f_score(df[y2], predictions[i]), confusion_matrix(df[y2], predictions[i])))\n",
    "            else:\n",
    "                out.append((k, mean_f_score(df2[y2], predictions[i]), confusion_matrix(df2[y2], predictions[i])))\n",
    "\n",
    "    return out"
   ]
  },
  {
   "cell_type": "code",
   "execution_count": 48,
   "metadata": {
    "collapsed": false
   },
   "outputs": [],
   "source": [
    "def plot_confusion_matrix(cm, classes,\n",
    "                          normalize=False,\n",
    "                          title='Confusion matrix',\n",
    "                          cmap=plt.cm.Blues):\n",
    "    \"\"\"\n",
    "    This function prints and plots the confusion matrix.\n",
    "    Normalization can be applied by setting `normalize=True`.\n",
    "    \"\"\"\n",
    "    plt.imshow(cm, interpolation='nearest', cmap=cmap)\n",
    "    plt.title(title)\n",
    "    plt.colorbar()\n",
    "    tick_marks = np.arange(len(classes))\n",
    "    plt.xticks(tick_marks, classes, rotation=45)\n",
    "    plt.yticks(tick_marks, classes)\n",
    "\n",
    "    if normalize:\n",
    "        cm = cm.astype('float') / cm.sum(axis=1)[:, np.newaxis]\n",
    "        print(\"Normalized confusion matrix\")\n",
    "    else:\n",
    "        print('Confusion matrix, without normalization')\n",
    "\n",
    "    print(cm)\n",
    "\n",
    "    thresh = cm.max() / 2.\n",
    "    for i, j in itertools.product(range(cm.shape[0]), range(cm.shape[1])):\n",
    "        plt.text(j, i, cm[i, j],\n",
    "                 horizontalalignment=\"center\",\n",
    "                 color=\"white\" if cm[i, j] > thresh else \"black\")\n",
    "\n",
    "    plt.tight_layout()\n",
    "    plt.ylabel('True label')\n",
    "    plt.xlabel('Predicted label')\n",
    "\n",
    "    plt.show()\n",
    "# Plot normalized confusion matrix\n",
    "\n"
   ]
  },
  {
   "cell_type": "code",
   "execution_count": 49,
   "metadata": {
    "collapsed": false
   },
   "outputs": [
    {
     "ename": "SyntaxError",
     "evalue": "positional argument follows keyword argument (<ipython-input-49-9875e60f8c8d>, line 6)",
     "output_type": "error",
     "traceback": [
      "\u001b[0;36m  File \u001b[0;32m\"<ipython-input-49-9875e60f8c8d>\"\u001b[0;36m, line \u001b[0;32m6\u001b[0m\n\u001b[0;31m    arr = plot_confusion_matrix(mats[i], normalize=True, title=title, \"\")\u001b[0m\n\u001b[0m                                                                     ^\u001b[0m\n\u001b[0;31mSyntaxError\u001b[0m\u001b[0;31m:\u001b[0m positional argument follows keyword argument\n"
     ]
    }
   ],
   "source": [
    "\n",
    "def plot_conf_mat(results, title=\"Confusion Matrix\"):\n",
    "    run, score, mats = zip(*results)\n",
    "    for i in range(len(results)):\n",
    "        f, arr = plt.subplots(len(results))\n",
    "        arr = plot_confusion_matrix(mats[i], normalize=True, title=title, \"\")\n",
    "        f.show()"
   ]
  },
  {
   "cell_type": "code",
   "execution_count": 50,
   "metadata": {
    "collapsed": false
   },
   "outputs": [],
   "source": [
    "def plot_scores(info:list):\n",
    "    labels, scores, cf_mats = zip(*info)\n",
    "    keys=[\"2012_all\",\"2012_subset\",\"2016_all\",\"2016_subset\"]\n",
    "    num_keys = len(keys)\n",
    "    pred_by_c = {\"svc\":[0]*(num_keys), \"knn\":[0]*(num_keys), \"logit\":[0]*(num_keys)}\n",
    "    data = {k : [0] * (num_keys-1) for k in keys}\n",
    "    data[\"classifier\"] = [None]*3\n",
    "    \n",
    "    for i in range(len(labels)):\n",
    "        L = labels[i]\n",
    "        if \"svc\" in L:\n",
    "            c = \"svc\"\n",
    "        elif \"knn\" in L:\n",
    "            c = \"knn\"\n",
    "        else:\n",
    "            c = \"logit\"\n",
    "        \n",
    "        for k in range(num_keys):\n",
    "            if keys[k] in L:\n",
    "                pred_by_c[c][k] = scores[i]\n",
    "                \n",
    "    c_idx = 0 \n",
    "    print(pred_by_c.keys())\n",
    "    for c in pred_by_c.keys():\n",
    "        s = pred_by_c[c]\n",
    "        for i in range(num_keys):\n",
    "            data[keys[i]][c_idx] = s[i]\n",
    "            data[\"classifier\"][c_idx] = c\n",
    "        c_idx+=1\n",
    "            \n",
    "    cols = keys.copy()\n",
    "    cols.append(\"classifier\")\n",
    "    return pd.DataFrame(data=data, columns=cols)\n",
    "    \n",
    "    \n",
    "        \n",
    "    "
   ]
  },
  {
   "cell_type": "markdown",
   "metadata": {},
   "source": [
    "## SWING STATES"
   ]
  },
  {
   "cell_type": "code",
   "execution_count": 51,
   "metadata": {
    "collapsed": true
   },
   "outputs": [],
   "source": [
    "swing_states=[\"AZ\",\"FL\",\"GA\",\"NH\",\"NC\",\"CO\",\"MI\",\"NV\",\"VA\",\"PA\",\"WI\",\"OH\"]"
   ]
  },
  {
   "cell_type": "code",
   "execution_count": 52,
   "metadata": {
    "collapsed": true
   },
   "outputs": [],
   "source": [
    "swingers=df[df['state_abbreviation'].isin(swing_states)]"
   ]
  },
  {
   "cell_type": "code",
   "execution_count": 54,
   "metadata": {
    "collapsed": false
   },
   "outputs": [
    {
     "name": "stdout",
     "output_type": "stream",
     "text": [
      "dict_keys(['knn', 'logit', 'svc'])\n"
     ]
    }
   ],
   "source": [
    "two = clusteringalgo_fscore([\"Female%\",\n",
    "                     \"White%\",\"Black%\",\"NativeA%\",\"Asian%\",\n",
    "                    \"PIsland%\",\"TwoRace%\",\"Latino\", \"WhiteNLat%\"],\"Winner2012\",\"Winner2016\",swingers,swingers[swingers['Demographic_Cluster1']==1])\n",
    "\n",
    "ax = plt.subplot(111, frame_on=False) # no visible frame\n",
    "ax.xaxis.set_visible(False)  # hide the x axis\n",
    "ax.yaxis.set_visible(False)  # hide the y axis\n",
    "\n",
    "table(ax, plot_scores(two))  # where df is your data frame\n",
    "\n",
    "plt.savefig('f_score_race_demog1.png')"
   ]
  },
  {
   "cell_type": "code",
   "execution_count": 32,
   "metadata": {
    "collapsed": false
   },
   "outputs": [
    {
     "name": "stdout",
     "output_type": "stream",
     "text": [
      "dict_keys(['knn', 'logit', 'svc'])\n"
     ]
    },
    {
     "data": {
      "text/html": [
       "<div>\n",
       "<table border=\"1\" class=\"dataframe\">\n",
       "  <thead>\n",
       "    <tr style=\"text-align: right;\">\n",
       "      <th></th>\n",
       "      <th>2012_all</th>\n",
       "      <th>2012_subset</th>\n",
       "      <th>2016_all</th>\n",
       "      <th>2016_subset</th>\n",
       "      <th>classifier</th>\n",
       "    </tr>\n",
       "  </thead>\n",
       "  <tbody>\n",
       "    <tr>\n",
       "      <th>0</th>\n",
       "      <td>1.000000</td>\n",
       "      <td>1.000000</td>\n",
       "      <td>0.904000</td>\n",
       "      <td>0.888889</td>\n",
       "      <td>knn</td>\n",
       "    </tr>\n",
       "    <tr>\n",
       "      <th>1</th>\n",
       "      <td>0.825143</td>\n",
       "      <td>0.777778</td>\n",
       "      <td>0.896000</td>\n",
       "      <td>0.888889</td>\n",
       "      <td>logit</td>\n",
       "    </tr>\n",
       "    <tr>\n",
       "      <th>2</th>\n",
       "      <td>0.915429</td>\n",
       "      <td>1.000000</td>\n",
       "      <td>0.926857</td>\n",
       "      <td>0.888889</td>\n",
       "      <td>svc</td>\n",
       "    </tr>\n",
       "  </tbody>\n",
       "</table>\n",
       "</div>"
      ],
      "text/plain": [
       "   2012_all  2012_subset  2016_all  2016_subset classifier\n",
       "0  1.000000     1.000000  0.904000     0.888889        knn\n",
       "1  0.825143     0.777778  0.896000     0.888889      logit\n",
       "2  0.915429     1.000000  0.926857     0.888889        svc"
      ]
     },
     "execution_count": 32,
     "metadata": {},
     "output_type": "execute_result"
    }
   ],
   "source": [
    "three = clusteringalgo_fscore([\"Female%\",\n",
    "                     \"White%\",\"Black%\",\"NativeA%\",\"Asian%\",\n",
    "ax = plt.subplot(111, frame_on=False) # no visible frame\n",
    "ax.xaxis.set_visible(False)  # hide the x axis\n",
    "ax.yaxis.set_visible(False)  # hide the y axis\n",
    "\n",
    "table(ax, plot_scores(three))  # where df is your data frame\n",
    "\n",
    "plt.savefig('mytable.png')              "
   ]
  },
  {
   "cell_type": "code",
   "execution_count": 33,
   "metadata": {
    "collapsed": false
   },
   "outputs": [
    {
     "name": "stdout",
     "output_type": "stream",
     "text": [
      "dict_keys(['knn', 'logit', 'svc'])\n"
     ]
    },
    {
     "data": {
      "text/html": [
       "<div>\n",
       "<table border=\"1\" class=\"dataframe\">\n",
       "  <thead>\n",
       "    <tr style=\"text-align: right;\">\n",
       "      <th></th>\n",
       "      <th>2012_all</th>\n",
       "      <th>2012_subset</th>\n",
       "      <th>2016_all</th>\n",
       "      <th>2016_subset</th>\n",
       "      <th>classifier</th>\n",
       "    </tr>\n",
       "  </thead>\n",
       "  <tbody>\n",
       "    <tr>\n",
       "      <th>0</th>\n",
       "      <td>1.000000</td>\n",
       "      <td>1.000000</td>\n",
       "      <td>0.904000</td>\n",
       "      <td>0.876712</td>\n",
       "      <td>knn</td>\n",
       "    </tr>\n",
       "    <tr>\n",
       "      <th>1</th>\n",
       "      <td>0.822857</td>\n",
       "      <td>0.890411</td>\n",
       "      <td>0.886857</td>\n",
       "      <td>0.876712</td>\n",
       "      <td>logit</td>\n",
       "    </tr>\n",
       "    <tr>\n",
       "      <th>2</th>\n",
       "      <td>1.000000</td>\n",
       "      <td>1.000000</td>\n",
       "      <td>0.904000</td>\n",
       "      <td>0.876712</td>\n",
       "      <td>svc</td>\n",
       "    </tr>\n",
       "  </tbody>\n",
       "</table>\n",
       "</div>"
      ],
      "text/plain": [
       "   2012_all  2012_subset  2016_all  2016_subset classifier\n",
       "0  1.000000     1.000000  0.904000     0.876712        knn\n",
       "1  0.822857     0.890411  0.886857     0.876712      logit\n",
       "2  1.000000     1.000000  0.904000     0.876712        svc"
      ]
     },
     "execution_count": 33,
     "metadata": {},
     "output_type": "execute_result"
    }
   ],
   "source": [
    "four = clusteringalgo_fscore(['Female%',\n",
    " 'White%',\n",
    " 'Black%',\n",
    " 'NativeA%',\n",
    " 'Asian%',\n",
    " 'PIsland%',\n",
    " 'TwoRace%',\n",
    " 'Latino',\n",
    " 'WhiteNLat%',\n",
    " 'PerCapitaIncome',\n",
    " 'MedianIncome',\n",
    " '%BelowPoverty'],\"Winner2012\",\"Winner2016\",swingers,swingers[swingers['Combined_Cluster0']==1])\n",
    "ax = plt.subplot(111, frame_on=False) # no visible frame\n",
    "ax.xaxis.set_visible(False)  # hide the x axis\n",
    "ax.yaxis.set_visible(False)  # hide the y axis\n",
    "\n",
    "table(ax, plot_scores(four))  # where df is your data frame\n",
    "\n",
    "plt.savefig('f_score_combined0.png') "
   ]
  },
  {
   "cell_type": "code",
   "execution_count": 34,
   "metadata": {
    "collapsed": false
   },
   "outputs": [
    {
     "name": "stdout",
     "output_type": "stream",
     "text": [
      "dict_keys(['knn', 'logit', 'svc'])\n"
     ]
    },
    {
     "data": {
      "text/html": [
       "<div>\n",
       "<table border=\"1\" class=\"dataframe\">\n",
       "  <thead>\n",
       "    <tr style=\"text-align: right;\">\n",
       "      <th></th>\n",
       "      <th>2012_all</th>\n",
       "      <th>2012_subset</th>\n",
       "      <th>2016_all</th>\n",
       "      <th>2016_subset</th>\n",
       "      <th>classifier</th>\n",
       "    </tr>\n",
       "  </thead>\n",
       "  <tbody>\n",
       "    <tr>\n",
       "      <th>0</th>\n",
       "      <td>1.000000</td>\n",
       "      <td>1.000000</td>\n",
       "      <td>0.904000</td>\n",
       "      <td>0.864198</td>\n",
       "      <td>knn</td>\n",
       "    </tr>\n",
       "    <tr>\n",
       "      <th>1</th>\n",
       "      <td>0.822857</td>\n",
       "      <td>0.740741</td>\n",
       "      <td>0.886857</td>\n",
       "      <td>0.851852</td>\n",
       "      <td>logit</td>\n",
       "    </tr>\n",
       "    <tr>\n",
       "      <th>2</th>\n",
       "      <td>1.000000</td>\n",
       "      <td>1.000000</td>\n",
       "      <td>0.904000</td>\n",
       "      <td>0.864198</td>\n",
       "      <td>svc</td>\n",
       "    </tr>\n",
       "  </tbody>\n",
       "</table>\n",
       "</div>"
      ],
      "text/plain": [
       "   2012_all  2012_subset  2016_all  2016_subset classifier\n",
       "0  1.000000     1.000000  0.904000     0.864198        knn\n",
       "1  0.822857     0.740741  0.886857     0.851852      logit\n",
       "2  1.000000     1.000000  0.904000     0.864198        svc"
      ]
     },
     "execution_count": 34,
     "metadata": {},
     "output_type": "execute_result"
    }
   ],
   "source": [
    "five = clusteringalgo_fscore(['Female%',\n",
    " 'White%',\n",
    " 'Black%',\n",
    " 'NativeA%',\n",
    " 'Asian%',\n",
    " 'PIsland%',\n",
    " 'TwoRace%',\n",
    " 'Latino',\n",
    " 'WhiteNLat%',\n",
    " 'PerCapitaIncome',\n",
    " 'MedianIncome',\n",
    " '%BelowPoverty'],\"Winner2012\",\"Winner2016\",swingers,swingers[swingers['Combined_Cluster4']==1])\n",
    "plot_scores(five)"
   ]
  },
  {
   "cell_type": "code",
   "execution_count": 35,
   "metadata": {
    "collapsed": false
   },
   "outputs": [
    {
     "name": "stdout",
     "output_type": "stream",
     "text": [
      "dict_keys(['knn', 'logit', 'svc'])\n"
     ]
    },
    {
     "data": {
      "text/html": [
       "<div>\n",
       "<table border=\"1\" class=\"dataframe\">\n",
       "  <thead>\n",
       "    <tr style=\"text-align: right;\">\n",
       "      <th></th>\n",
       "      <th>2012_all</th>\n",
       "      <th>2012_subset</th>\n",
       "      <th>2016_all</th>\n",
       "      <th>2016_subset</th>\n",
       "      <th>classifier</th>\n",
       "    </tr>\n",
       "  </thead>\n",
       "  <tbody>\n",
       "    <tr>\n",
       "      <th>0</th>\n",
       "      <td>1.000000</td>\n",
       "      <td>1.00000</td>\n",
       "      <td>0.904000</td>\n",
       "      <td>0.918919</td>\n",
       "      <td>knn</td>\n",
       "    </tr>\n",
       "    <tr>\n",
       "      <th>1</th>\n",
       "      <td>0.822857</td>\n",
       "      <td>0.72973</td>\n",
       "      <td>0.886857</td>\n",
       "      <td>0.810811</td>\n",
       "      <td>logit</td>\n",
       "    </tr>\n",
       "    <tr>\n",
       "      <th>2</th>\n",
       "      <td>1.000000</td>\n",
       "      <td>1.00000</td>\n",
       "      <td>0.904000</td>\n",
       "      <td>0.918919</td>\n",
       "      <td>svc</td>\n",
       "    </tr>\n",
       "  </tbody>\n",
       "</table>\n",
       "</div>"
      ],
      "text/plain": [
       "   2012_all  2012_subset  2016_all  2016_subset classifier\n",
       "0  1.000000      1.00000  0.904000     0.918919        knn\n",
       "1  0.822857      0.72973  0.886857     0.810811      logit\n",
       "2  1.000000      1.00000  0.904000     0.918919        svc"
      ]
     },
     "execution_count": 35,
     "metadata": {},
     "output_type": "execute_result"
    }
   ],
   "source": [
    "six = clusteringalgo_fscore(['Female%',\n",
    " 'White%',\n",
    " 'Black%',\n",
    " 'NativeA%',\n",
    " 'Asian%',\n",
    " 'PIsland%',\n",
    " 'TwoRace%',\n",
    " 'Latino',\n",
    " 'WhiteNLat%',\n",
    " 'PerCapitaIncome',\n",
    " 'MedianIncome',\n",
    " '%BelowPoverty'],\"Winner2012\",\"Winner2016\",swingers,swingers[swingers['Combined_Cluster5']==1])\n",
    "plot_scores(six)"
   ]
  },
  {
   "cell_type": "code",
   "execution_count": 36,
   "metadata": {
    "collapsed": false
   },
   "outputs": [
    {
     "ename": "SyntaxError",
     "evalue": "invalid syntax (<ipython-input-36-6f719179e65e>, line 1)",
     "output_type": "error",
     "traceback": [
      "\u001b[0;36m  File \u001b[0;32m\"<ipython-input-36-6f719179e65e>\"\u001b[0;36m, line \u001b[0;32m1\u001b[0m\n\u001b[0;31m    |\u001b[0m\n\u001b[0m    ^\u001b[0m\n\u001b[0;31mSyntaxError\u001b[0m\u001b[0;31m:\u001b[0m invalid syntax\n"
     ]
    }
   ],
   "source": [
    "|"
   ]
  },
  {
   "cell_type": "code",
   "execution_count": null,
   "metadata": {
    "collapsed": true
   },
   "outputs": [],
   "source": []
  },
  {
   "cell_type": "code",
   "execution_count": null,
   "metadata": {
    "collapsed": true
   },
   "outputs": [],
   "source": []
  },
  {
   "cell_type": "code",
   "execution_count": null,
   "metadata": {
    "collapsed": true
   },
   "outputs": [],
   "source": []
  },
  {
   "cell_type": "code",
   "execution_count": null,
   "metadata": {
    "collapsed": true
   },
   "outputs": [],
   "source": []
  },
  {
   "cell_type": "code",
   "execution_count": null,
   "metadata": {
    "collapsed": true
   },
   "outputs": [],
   "source": []
  },
  {
   "cell_type": "code",
   "execution_count": null,
   "metadata": {
    "collapsed": true
   },
   "outputs": [],
   "source": []
  }
 ],
 "metadata": {
  "kernelspec": {
   "display_name": "Python 3",
   "language": "python",
   "name": "python3"
  },
  "language_info": {
   "codemirror_mode": {
    "name": "ipython",
    "version": 3
   },
   "file_extension": ".py",
   "mimetype": "text/x-python",
   "name": "python",
   "nbconvert_exporter": "python",
   "pygments_lexer": "ipython3",
   "version": "3.5.2"
  }
 },
 "nbformat": 4,
 "nbformat_minor": 1
}
