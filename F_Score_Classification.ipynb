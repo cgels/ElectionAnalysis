{
 "cells": [
  {
   "cell_type": "code",
   "execution_count": 41,
   "metadata": {
    "collapsed": false
   },
   "outputs": [],
   "source": [
    "import pandas as pd \n",
    "from sklearn.model_selection import cross_val_score\n",
    "from sklearn.svm import SVC\n",
    "from sklearn.neighbors import KNeighborsClassifier\n",
    "from sklearn.metrics import confusion_matrix\n",
    "from sklearn.metrics import precision_recall_fscore_support"
   ]
  },
  {
   "cell_type": "code",
   "execution_count": 42,
   "metadata": {
    "collapsed": true
   },
   "outputs": [],
   "source": [
    "df=pd.read_csv(\"ClustersCountiesVoting.csv\").drop('Unnamed: 0',axis=1)"
   ]
  },
  {
   "cell_type": "code",
   "execution_count": null,
   "metadata": {
    "collapsed": false
   },
   "outputs": [],
   "source": []
  },
  {
   "cell_type": "code",
   "execution_count": 43,
   "metadata": {
    "collapsed": false
   },
   "outputs": [
    {
     "name": "stdout",
     "output_type": "stream",
     "text": [
      "Current_Cluster 6\n",
      "Demographic_Cluster 7\n",
      "Economic_Cluster 9\n",
      "Owned_Cluster 7\n",
      "Age_Cluster 5\n",
      "Education_Cluster 6\n",
      "Housing_Cluster 7\n",
      "Combined_Cluster 10\n"
     ]
    }
   ],
   "source": [
    "for i in ['Current_Cluster',\n",
    "       'Demographic_Cluster', 'Economic_Cluster', 'Owned_Cluster',\n",
    "       'Age_Cluster', 'Education_Cluster', 'Housing_Cluster','Combined_Cluster']:\n",
    "    cols=pd.get_dummies(df[i])\n",
    "    strings=[]\n",
    "    for j in range(len(cols.columns)):\n",
    "        strings.append(i+str(j))\n",
    "        df[i+str(j)]=cols[cols.columns[j]]\n",
    "    print(i,len(cols.columns))\n",
    "    cols.columns=strings"
   ]
  },
  {
   "cell_type": "code",
   "execution_count": 44,
   "metadata": {
    "collapsed": true
   },
   "outputs": [],
   "source": [
    "df['Winner2016']=0\n",
    "df.ix[df['per_point_diff_2016']>0,'Winner2016']=1\n",
    "df['Winner2012']=0\n",
    "df.ix[df['per_point_diff_2012']>0,'Winner2012']=1\n",
    "dems=df[df['Winner2016']==1]"
   ]
  },
  {
   "cell_type": "code",
   "execution_count": 45,
   "metadata": {
    "collapsed": true
   },
   "outputs": [],
   "source": [
    "demographic=[\"Demographic_Cluster0\",\"Demographic_Cluster1\",\"Demographic_Cluster2\",\"Demographic_Cluster3\",\n",
    "            \"Demographic_Cluster4\",\"Demographic_Cluster5\",\"Demographic_Cluster6\"]\n",
    "economic=[\"Economic_Cluster0\",\"Economic_Cluster1\",\"Economic_Cluster2\",\"Economic_Cluster3\",\n",
    "            \"Economic_Cluster4\",\"Economic_Cluster5\",\"Economic_Cluster6\",\"Economic_Cluster7\",\"Economic_Cluster8\"]\n",
    "econ=[\"Economic_Cluster0\"]\n",
    "education=[\"Education_Cluster0\",\"Education_Cluster1\",\"Education_Cluster2\",\"Education_Cluster3\",\"Education_Cluster4\",\n",
    "                \"Education_Cluster5\"]"
   ]
  },
  {
   "cell_type": "code",
   "execution_count": null,
   "metadata": {
    "collapsed": true
   },
   "outputs": [],
   "source": []
  },
  {
   "cell_type": "code",
   "execution_count": 84,
   "metadata": {
    "collapsed": true
   },
   "outputs": [],
   "source": [
    "def get_classifier_metrics(truth_2012, truth_2016, truth_2012_sub, truth_2016_sub, predict_maps:dict, ):\n",
    "    metrics = {}\n",
    "    for k, v in predict_maps.items():\n",
    "        if \"2012\" in k:\n",
    "            if \"all\" in k:\n",
    "                metrics[k] = precision_recall_fscore_support(truth_2012, v, average=\"binary\")\n",
    "            else:\n",
    "                metrics[k] = precision_recall_fscore_support(truth_2012_sub, v, average=\"binary\")\n",
    "        else:\n",
    "            if \"all\" in k:\n",
    "                metrics[k] = precision_recall_fscore_support(truth_2016, v, average=\"binary\")\n",
    "            else:\n",
    "                metrics[k] = precision_recall_fscore_support(truth_2016_sub, v, average=\"binary\")\n",
    "    \n",
    "    \n",
    "    return metrics\n",
    "    "
   ]
  },
  {
   "cell_type": "code",
   "execution_count": 110,
   "metadata": {
    "collapsed": true
   },
   "outputs": [],
   "source": [
    "def clusteringalgo_fscore(x, y, y2, df, df2):\n",
    "    preds_names = [\"svc_2012_all\", \"knn_2012_all\", \"svc_2016_all\", \"knn_2016_all\",\n",
    "             \"svc_2012_sub\",\"knn_2012_sub\", \"svc_2016_sub\",\"knn_2016_sub\"]\n",
    "    predictions = []\n",
    "    # init \n",
    "    svc = SVC()\n",
    "    knn = KNeighborsClassifier()\n",
    "    # train using overall 2012 results.\n",
    "    svc.fit(df[x], df[y])\n",
    "    knn.fit(df[x], df[y])\n",
    "    ## predict overall 2012 election results \n",
    "    predictions.append(svc.predict(df[x]))\n",
    "    predictions.append(knn.predict(df[x]))\n",
    "    ##predict overall 2016 election results\n",
    "    predictions.append(svc.predict(df[x]))\n",
    "    predictions.append(knn.predict(df[x]))\n",
    "    ## predict subset 2012 election results\n",
    "    predictions.append(svc.predict(df2[x]))\n",
    "    predictions.append(knn.predict(df2[x]))\n",
    "    ## predict subset 2016 election results\n",
    "    predictions.append(svc.predict(df2[x]))\n",
    "    predictions.append(knn.predict(df2[x]))\n",
    "    \n",
    "    results = get_classifier_metrics(df[y], df[y2], df2[y], df2[y2], {k:v for k,v in list(zip(preds_names, predictions))})\n",
    "    for k, result in sorted(results.items()):\n",
    "        print(k, \" - \", result[2])\n",
    "    \n",
    "    \n",
    "    "
   ]
  },
  {
   "cell_type": "code",
   "execution_count": 111,
   "metadata": {
    "collapsed": true
   },
   "outputs": [],
   "source": [
    "#Params:\n",
    "#x- predictors (represented as list of strings)\n",
    "#y- response (represented as list of strings)\n",
    "#y2- secondary response\n",
    "#df- original dataframe\n",
    "#df2- subset\n",
    "def clusteringalgo(x,y,y2,df,df2):\n",
    "    model=SVC()\n",
    "    model2=KNeighborsClassifier()\n",
    "    model.fit(df[x],df[y])\n",
    "    model2.fit(df[x],df[y])\n",
    "    \n",
    "    print(\"SVC overall accuracy for training is\"+str(model.score(df[x],df[y])))\n",
    "    print(\"KMeans overall accuracy for training is\"+str(model2.score(df[x],df[y])))\n",
    "    print(\"SVC overall accuracy for predictive testing is\"+str(model.score(df[x],df[y2])))\n",
    "    print(\"KMeans overall accuracy for predictive testing is\"+str(model2.score(df[x],df[y2])))\n",
    "    \n",
    "    print(\"SVC subset accuracy for testing is\"+str(model.score(df2[x],df2[y])))\n",
    "    print(\"KMeans subset accuracy for testing is\"+str(model2.score(df2[x],df2[y])))\n",
    "    print(\"SVC subset accuracy for predictive testing is\"+str(model.score(df2[x],df2[y2])))\n",
    "    print(\"KMeans subset accuracy for predictive testing is\"+str(model2.score(df2[x],df2[y2])))"
   ]
  },
  {
   "cell_type": "code",
   "execution_count": 112,
   "metadata": {
    "collapsed": false
   },
   "outputs": [],
   "source": [
    "model=SVC()"
   ]
  },
  {
   "cell_type": "code",
   "execution_count": 113,
   "metadata": {
    "collapsed": false
   },
   "outputs": [
    {
     "name": "stdout",
     "output_type": "stream",
     "text": [
      "knn_2012_all  -  0.297684674752\n",
      "knn_2012_sub  -  0.4332247557\n",
      "knn_2016_all  -  0.411847672779\n",
      "knn_2016_sub  -  0.460567823344\n",
      "svc_2012_all  -  0.297684674752\n",
      "svc_2012_sub  -  0.4332247557\n",
      "svc_2016_all  -  0.411847672779\n",
      "svc_2016_sub  -  0.460567823344\n"
     ]
    }
   ],
   "source": [
    "clusteringalgo_fscore([\"Education_Cluster0\",\"Education_Cluster1\",\"Education_Cluster2\",\"Education_Cluster3\",\"Education_Cluster4\",\n",
    "                \"Education_Cluster5\"],'Winner2012',\"Winner2016\",df,dems)"
   ]
  },
  {
   "cell_type": "code",
   "execution_count": 114,
   "metadata": {
    "collapsed": false
   },
   "outputs": [
    {
     "name": "stdout",
     "output_type": "stream",
     "text": [
      "knn_2012_all  -  0.629370629371\n",
      "knn_2012_sub  -  0.795918367347\n",
      "knn_2016_all  -  0.668076109937\n",
      "knn_2016_sub  -  0.786069651741\n",
      "svc_2012_all  -  0.538538538539\n",
      "svc_2012_sub  -  0.684283727399\n",
      "svc_2016_all  -  0.626716604245\n",
      "svc_2016_sub  -  0.679296346414\n"
     ]
    }
   ],
   "source": [
    "clusteringalgo_fscore([\"Education_Cluster0\",\"Education_Cluster1\",\"Education_Cluster2\",\"Education_Cluster3\",\"Education_Cluster4\",\n",
    "                \"Education_Cluster5\",\"White%\"],'Winner2012',\"Winner2016\",df,dems)"
   ]
  },
  {
   "cell_type": "code",
   "execution_count": 115,
   "metadata": {
    "collapsed": false
   },
   "outputs": [
    {
     "name": "stdout",
     "output_type": "stream",
     "text": [
      "knn_2012_all  -  0.594117647059\n",
      "knn_2012_sub  -  0.841854934602\n",
      "knn_2016_all  -  0.641996557659\n",
      "knn_2016_sub  -  0.86643437863\n",
      "svc_2012_all  -  0.543739279588\n",
      "svc_2012_sub  -  0.737254901961\n",
      "svc_2016_all  -  0.613636363636\n",
      "svc_2016_sub  -  0.756687898089\n"
     ]
    }
   ],
   "source": [
    "model2=KNeighborsClassifier()\n",
    "clusteringalgo_fscore([\"Demographic_Cluster0\",\"Demographic_Cluster1\",\"Demographic_Cluster2\",\"Demographic_Cluster3\",\n",
    "            \"Demographic_Cluster4\",\"Demographic_Cluster5\",\"Demographic_Cluster6\",\"Education_Cluster0\",\n",
    "              \"Education_Cluster1\",\"Education_Cluster2\",\"Education_Cluster3\",\"Education_Cluster4\",\n",
    "                \"Education_Cluster5\"],'Winner2012',\"Winner2016\",df,dems)"
   ]
  },
  {
   "cell_type": "code",
   "execution_count": 116,
   "metadata": {
    "collapsed": false
   },
   "outputs": [
    {
     "name": "stdout",
     "output_type": "stream",
     "text": [
      "knn_2012_all  -  0.407294832827\n",
      "knn_2012_sub  -  0.503987240829\n",
      "knn_2016_all  -  0.403041825095\n",
      "knn_2016_sub  -  0.491499227202\n",
      "svc_2012_all  -  0.891935483871\n",
      "svc_2012_sub  -  0.906542056075\n",
      "svc_2016_all  -  0.74472168906\n",
      "svc_2016_sub  -  0.885844748858\n"
     ]
    }
   ],
   "source": [
    "clusteringalgo_fscore([\"Demographic_Cluster0\",\"Demographic_Cluster1\",\"Demographic_Cluster2\",\"Demographic_Cluster3\",\n",
    "            \"Demographic_Cluster4\",\"Demographic_Cluster5\",\"Demographic_Cluster6\",\"MedianIncome\"],'Winner2012',\"Winner2016\",df,dems)"
   ]
  },
  {
   "cell_type": "code",
   "execution_count": null,
   "metadata": {
    "collapsed": false
   },
   "outputs": [
    {
     "name": "stdout",
     "output_type": "stream",
     "text": [
      "knn_2012_all  -  0.115384615385\n",
      "knn_2012_sub  -  0.170542635659\n",
      "knn_2016_all  -  0.164948453608\n",
      "knn_2016_sub  -  0.179104477612\n",
      "svc_2012_all  -  0.0340909090909\n",
      "svc_2012_sub  -  0.05\n",
      "svc_2016_all  -  0.0474308300395\n",
      "svc_2016_sub  -  0.048\n"
     ]
    }
   ],
   "source": [
    "clusteringalgo_fscore([\"Economic_Cluster0\",\"Economic_Cluster1\",\"Economic_Cluster2\",\"Economic_Cluster3\",\n",
    "            \"Economic_Cluster4\",\"Economic_Cluster5\",\"Economic_Cluster6\",\"Economic_Cluster7\",\"Economic_Cluster8\",],\n",
    "               \"Winner2012\",\"Winner2016\",df,dems)"
   ]
  },
  {
   "cell_type": "code",
   "execution_count": null,
   "metadata": {
    "collapsed": false
   },
   "outputs": [],
   "source": [
    "clusteringalgo_fscore([\"Pop2014\",\"Pop2010EST\",\"Pop%Change\",\"Pop2010\",\n",
    "                    \"Under5%\",\"Under18%\",\"Over65%\",\"Female%\",\n",
    "                     \"White%\",\"Black%\",\"NativeA%\",\"Asian%\",\n",
    "                    \"PIsland%\",\"TwoRace%\",\"Latino\", \"WhiteNLat%\",\n",
    "                     \"SameHouse1yr%\",\"ForeignBorn%\",\"NonEnglish%\",\"HighSchoolGrad%\",\n",
    "                    \"Bachelor%\",\"Veteran\", \"TravelTime\",\"HousingUnits\", \n",
    "                     \"OwnershipRate\",\"UnitsinMultiUnit%\",\"MedianValueHousing\",\n",
    "                     \"Households\",\"PerCapitaIncome\",\"MedianIncome\",\"%BelowPoverty\",\n",
    "                     \"PrivateNotFarmsEstablish\",\"PrivateNotFarmEmploy\",\"NotFarm%Change\",\"NonEmployerEstablish\",\n",
    "                    \"Black-owned%\",\"Native-owned%\",\"Asian-owned%\",\"PIslnder-owned%\",\n",
    "                     \"Hispanic-owned%\",\"Woman-owned\",\"Manfact shipments 1k\",\n",
    "                    \"Merchant sales 1k\",\"Retail sales 1k\",\"Retail sales/capita\",\n",
    "                     \"Accomd/FoodServ sales 1k\",\"BuildingPermits\",\"LandArea\",\"Pop/SqMile\"],\"Winner2012\",\"Winner2016\",df,dems)"
   ]
  },
  {
   "cell_type": "code",
   "execution_count": 131,
   "metadata": {
    "collapsed": false
   },
   "outputs": [
    {
     "name": "stdout",
     "output_type": "stream",
     "text": [
      "knn_2012_all  -  0.682969432314\n",
      "knn_2012_sub  -  0.826405867971\n",
      "knn_2016_all  -  0.739176346357\n",
      "knn_2016_sub  -  0.835322195704\n",
      "svc_2012_all  -  0.751123090746\n",
      "svc_2012_sub  -  0.877990430622\n",
      "svc_2016_all  -  0.804371584699\n",
      "svc_2016_sub  -  0.859813084112\n"
     ]
    }
   ],
   "source": [
    "clusteringalgo_fscore([\"Female%\",\n",
    "                     \"White%\",\"Black%\",\"NativeA%\",\"Asian%\",\n",
    "                    \"PIsland%\",\"TwoRace%\",\"Latino\", \"WhiteNLat%\"],\"Winner2012\",\"Winner2016\",df,dems)"
   ]
  },
  {
   "cell_type": "code",
   "execution_count": null,
   "metadata": {
    "collapsed": false
   },
   "outputs": [],
   "source": [
    "clusteringalgo_fscore([\"Female%\",\n",
    "                     \"White%\",\"Black%\",\"NativeA%\",\"Asian%\",\n",
    "                    \"PIsland%\",\"TwoRace%\",\"Latino\", \"WhiteNLat%\"],\"Winner2012\",\"Winner2016\",df,df[df['Demographic_Cluster4']!=0])"
   ]
  },
  {
   "cell_type": "code",
   "execution_count": null,
   "metadata": {
    "collapsed": false
   },
   "outputs": [],
   "source": [
    "clusteringalgo_fscore([\"Female%\",\n",
    "                     \"White%\",\"Black%\",\"NativeA%\",\"Asian%\",\n",
    "                    \"PIsland%\",\"TwoRace%\",\"Latino\", \"WhiteNLat%\"],\"Winner2012\",\"Winner2016\",df,df[df['Demographic_Cluster0']!=0])"
   ]
  },
  {
   "cell_type": "code",
   "execution_count": null,
   "metadata": {
    "collapsed": false
   },
   "outputs": [],
   "source": [
    "clusteringalgo_fscore([\"Female%\",\n",
    "                     \"White%\",\"Black%\",\"NativeA%\",\"Asian%\",\n",
    "                    \"PIsland%\",\"TwoRace%\",\"Latino\", \"WhiteNLat%\"],\"Winner2012\",\"Winner2016\",df,df[df['Demographic_Cluster3']!=0])"
   ]
  },
  {
   "cell_type": "code",
   "execution_count": null,
   "metadata": {
    "collapsed": false
   },
   "outputs": [],
   "source": [
    "swing_states=[\"AZ\",\"FL\",\"GA\",\"NH\",\"NC\",\"CO\",\"MI\",\"NV\",\"VA\",\"PA\",\"WI\",\"OH\"]"
   ]
  },
  {
   "cell_type": "code",
   "execution_count": null,
   "metadata": {
    "collapsed": false
   },
   "outputs": [],
   "source": [
    "swingers=df[df['state_abbreviation'].isin(swing_states)]"
   ]
  },
  {
   "cell_type": "code",
   "execution_count": null,
   "metadata": {
    "collapsed": false
   },
   "outputs": [],
   "source": [
    "clusteringalgo_fscore([\"Female%\",\n",
    "                     \"White%\",\"Black%\",\"NativeA%\",\"Asian%\",\n",
    "                    \"PIsland%\",\"TwoRace%\",\"Latino\", \"WhiteNLat%\"],\"Winner2012\",\"Winner2016\",swingers,swingers[swingers['Demographic_Cluster0']==1])"
   ]
  },
  {
   "cell_type": "code",
   "execution_count": null,
   "metadata": {
    "collapsed": false
   },
   "outputs": [],
   "source": [
    "clusteringalgo_fscore([\"Female%\",\n",
    "                     \"White%\",\"Black%\",\"NativeA%\",\"Asian%\",\n",
    "                    \"PIsland%\",\"TwoRace%\",\"Latino\", \"WhiteNLat%\"],\"Winner2012\",\"Winner2016\",swingers,swingers[swingers['Demographic_Cluster1']==1])"
   ]
  },
  {
   "cell_type": "code",
   "execution_count": null,
   "metadata": {
    "collapsed": false
   },
   "outputs": [],
   "source": [
    "clusteringalgo_fscore([\"Female%\",\n",
    "                     \"White%\",\"Black%\",\"NativeA%\",\"Asian%\",\n",
    "                    \"PIsland%\",\"TwoRace%\",\"Latino\", \"WhiteNLat%\"],\"Winner2012\",\"Winner2016\",swingers,swingers[swingers['Demographic_Cluster3']==1])"
   ]
  },
  {
   "cell_type": "code",
   "execution_count": null,
   "metadata": {
    "collapsed": false
   },
   "outputs": [],
   "source": [
    "clusteringalgo_fscore(['Female%',\n",
    " 'White%',\n",
    " 'Black%',\n",
    " 'NativeA%',\n",
    " 'Asian%',\n",
    " 'PIsland%',\n",
    " 'TwoRace%',\n",
    " 'Latino',\n",
    " 'WhiteNLat%',\n",
    " 'PerCapitaIncome',\n",
    " 'MedianIncome',\n",
    " '%BelowPoverty'],\"Winner2012\",\"Winner2016\",swingers,swingers[swingers['Combined_Cluster0']==1])"
   ]
  },
  {
   "cell_type": "code",
   "execution_count": null,
   "metadata": {
    "collapsed": false
   },
   "outputs": [],
   "source": [
    "clusteringalgo_fscore(['Female%',\n",
    " 'White%',\n",
    " 'Black%',\n",
    " 'NativeA%',\n",
    " 'Asian%',\n",
    " 'PIsland%',\n",
    " 'TwoRace%',\n",
    " 'Latino',\n",
    " 'WhiteNLat%',\n",
    " 'PerCapitaIncome',\n",
    " 'MedianIncome',\n",
    " '%BelowPoverty'],\"Winner2012\",\"Winner2016\",swingers,swingers[swingers['Combined_Cluster4']==1])"
   ]
  },
  {
   "cell_type": "code",
   "execution_count": null,
   "metadata": {
    "collapsed": false
   },
   "outputs": [],
   "source": [
    "clusteringalgo_fscore(['Female%',\n",
    " 'White%',\n",
    " 'Black%',\n",
    " 'NativeA%',\n",
    " 'Asian%',\n",
    " 'PIsland%',\n",
    " 'TwoRace%',\n",
    " 'Latino',\n",
    " 'WhiteNLat%',\n",
    " 'PerCapitaIncome',\n",
    " 'MedianIncome',\n",
    " '%BelowPoverty'],\"Winner2012\",\"Winner2016\",swingers,swingers[swingers['Combined_Cluster5']==1])"
   ]
  },
  {
   "cell_type": "code",
   "execution_count": null,
   "metadata": {
    "collapsed": true
   },
   "outputs": [],
   "source": []
  },
  {
   "cell_type": "code",
   "execution_count": null,
   "metadata": {
    "collapsed": true
   },
   "outputs": [],
   "source": []
  },
  {
   "cell_type": "code",
   "execution_count": null,
   "metadata": {
    "collapsed": true
   },
   "outputs": [],
   "source": []
  },
  {
   "cell_type": "code",
   "execution_count": null,
   "metadata": {
    "collapsed": true
   },
   "outputs": [],
   "source": []
  },
  {
   "cell_type": "code",
   "execution_count": null,
   "metadata": {
    "collapsed": true
   },
   "outputs": [],
   "source": []
  }
 ],
 "metadata": {
  "kernelspec": {
   "display_name": "Python 3",
   "language": "python",
   "name": "python3"
  },
  "language_info": {
   "codemirror_mode": {
    "name": "ipython",
    "version": 3
   },
   "file_extension": ".py",
   "mimetype": "text/x-python",
   "name": "python",
   "nbconvert_exporter": "python",
   "pygments_lexer": "ipython3",
   "version": "3.5.2"
  }
 },
 "nbformat": 4,
 "nbformat_minor": 1
}
