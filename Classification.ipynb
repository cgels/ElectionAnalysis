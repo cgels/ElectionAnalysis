{
 "cells": [
  {
   "cell_type": "code",
   "execution_count": 71,
   "metadata": {
    "collapsed": false
   },
   "outputs": [],
   "source": [
    "import pandas as pd \n",
    "from sklearn.model_selection import cross_val_score\n",
    "from sklearn.svm import SVC\n",
    "from sklearn.neighbors import KNeighborsClassifier"
   ]
  },
  {
   "cell_type": "code",
   "execution_count": 72,
   "metadata": {
    "collapsed": true
   },
   "outputs": [],
   "source": [
    "df=pd.read_csv(\"ClustersCountiesVoting.csv\").drop('Unnamed: 0',axis=1)"
   ]
  },
  {
   "cell_type": "code",
   "execution_count": null,
   "metadata": {
    "collapsed": false
   },
   "outputs": [],
   "source": []
  },
  {
   "cell_type": "code",
   "execution_count": 73,
   "metadata": {
    "collapsed": false
   },
   "outputs": [
    {
     "name": "stdout",
     "output_type": "stream",
     "text": [
      "Current_Cluster 6\n",
      "Demographic_Cluster 7\n",
      "Economic_Cluster 9\n",
      "Owned_Cluster 7\n",
      "Age_Cluster 5\n",
      "Education_Cluster 6\n",
      "Housing_Cluster 7\n",
      "Combined_Cluster 10\n"
     ]
    }
   ],
   "source": [
    "for i in ['Current_Cluster',\n",
    "       'Demographic_Cluster', 'Economic_Cluster', 'Owned_Cluster',\n",
    "       'Age_Cluster', 'Education_Cluster', 'Housing_Cluster','Combined_Cluster']:\n",
    "    cols=pd.get_dummies(df[i])\n",
    "    strings=[]\n",
    "    for j in range(len(cols.columns)):\n",
    "        strings.append(i+str(j))\n",
    "        df[i+str(j)]=cols[cols.columns[j]]\n",
    "    print(i,len(cols.columns))\n",
    "    cols.columns=strings"
   ]
  },
  {
   "cell_type": "code",
   "execution_count": 74,
   "metadata": {
    "collapsed": true
   },
   "outputs": [],
   "source": [
    "df['Winner2016']=0\n",
    "df.ix[df['per_point_diff_2016']>0,'Winner2016']=1\n",
    "df['Winner2012']=0\n",
    "df.ix[df['per_point_diff_2012']>0,'Winner2012']=1\n",
    "dems=df[df['Winner2016']==1]"
   ]
  },
  {
   "cell_type": "code",
   "execution_count": 75,
   "metadata": {
    "collapsed": true
   },
   "outputs": [],
   "source": [
    "demographic=[\"Demographic_Cluster0\",\"Demographic_Cluster1\",\"Demographic_Cluster2\",\"Demographic_Cluster3\",\n",
    "            \"Demographic_Cluster4\",\"Demographic_Cluster5\",\"Demographic_Cluster6\"]\n",
    "economic=[\"Economic_Cluster0\",\"Economic_Cluster1\",\"Economic_Cluster2\",\"Economic_Cluster3\",\n",
    "            \"Economic_Cluster4\",\"Economic_Cluster5\",\"Economic_Cluster6\",\"Economic_Cluster7\",\"Economic_Cluster8\"]\n",
    "econ=[\"Economic_Cluster0\"]\n",
    "education=[\"Education_Cluster0\",\"Education_Cluster1\",\"Education_Cluster2\",\"Education_Cluster3\",\"Education_Cluster4\",\n",
    "                \"Education_Cluster5\"]"
   ]
  },
  {
   "cell_type": "code",
   "execution_count": 76,
   "metadata": {
    "collapsed": true
   },
   "outputs": [],
   "source": [
    "#Params:\n",
    "#x- predictors (represented as list of strings)\n",
    "#y- response (represented as list of strings)\n",
    "#y2- secondary response\n",
    "#df- original dataframe\n",
    "#df2- subset\n",
    "def clusteringalgo(x,y,y2,df,df2):\n",
    "    model=SVC()\n",
    "    model2=KNeighborsClassifier()\n",
    "    model.fit(df[x],df[y])\n",
    "    model2.fit(df[x],df[y])\n",
    "    print(\"SVC overall accuracy for training is\"+str(model.score(df[x],df[y])))\n",
    "    print(\"KMeans overall accuracy for training is\"+str(model2.score(df[x],df[y])))\n",
    "    print(\"SVC overall accuracy for predictive testing is\"+str(model.score(df[x],df[y2])))\n",
    "    print(\"KMeans overall accuracy for predictive testing is\"+str(model2.score(df[x],df[y2])))\n",
    "    print(\"SVC subset accuracy for testing is\"+str(model.score(df2[x],df2[y])))\n",
    "    print(\"KMeans subset accuracy for testing is\"+str(model2.score(df2[x],df2[y])))\n",
    "    print(\"SVC subset accuracy for predictive testing is\"+str(model.score(df2[x],df2[y2])))\n",
    "    print(\"KMeans subset accuracy for predictive testing is\"+str(model2.score(df2[x],df2[y2])))"
   ]
  },
  {
   "cell_type": "code",
   "execution_count": 77,
   "metadata": {
    "collapsed": false
   },
   "outputs": [],
   "source": [
    "model=SVC()"
   ]
  },
  {
   "cell_type": "code",
   "execution_count": 78,
   "metadata": {
    "collapsed": false
   },
   "outputs": [
    {
     "name": "stdout",
     "output_type": "stream",
     "text": [
      "SVC overall accuracy for training is0.79530848329\n",
      "KMeans overall accuracy for training is0.79530848329\n",
      "SVC overall accuracy for predictive testing is0.866002570694\n",
      "KMeans overall accuracy for predictive testing is0.866002570694\n",
      "SVC subset accuracy for testing is0.286885245902\n",
      "KMeans subset accuracy for testing is0.286885245902\n",
      "SVC subset accuracy for predictive testing is0.299180327869\n",
      "KMeans subset accuracy for predictive testing is0.299180327869\n"
     ]
    }
   ],
   "source": [
    "clusteringalgo([\"Education_Cluster0\",\"Education_Cluster1\",\"Education_Cluster2\",\"Education_Cluster3\",\"Education_Cluster4\",\n",
    "                \"Education_Cluster5\"],'Winner2012',\"Winner2016\",df,dems)"
   ]
  },
  {
   "cell_type": "code",
   "execution_count": 79,
   "metadata": {
    "collapsed": false
   },
   "outputs": [
    {
     "name": "stdout",
     "output_type": "stream",
     "text": [
      "SVC overall accuracy for training is0.851863753213\n",
      "KMeans overall accuracy for training is0.863753213368\n",
      "SVC overall accuracy for predictive testing is0.903920308483\n",
      "KMeans overall accuracy for predictive testing is0.899100257069\n",
      "SVC subset accuracy for testing is0.534836065574\n",
      "KMeans subset accuracy for testing is0.672131147541\n",
      "SVC subset accuracy for predictive testing is0.514344262295\n",
      "KMeans subset accuracy for predictive testing is0.647540983607\n"
     ]
    }
   ],
   "source": [
    "clusteringalgo([\"Education_Cluster0\",\"Education_Cluster1\",\"Education_Cluster2\",\"Education_Cluster3\",\"Education_Cluster4\",\n",
    "                \"Education_Cluster5\",\"White%\"],'Winner2012',\"Winner2016\",df,dems)"
   ]
  },
  {
   "cell_type": "code",
   "execution_count": 80,
   "metadata": {
    "collapsed": false
   },
   "outputs": [
    {
     "name": "stdout",
     "output_type": "stream",
     "text": [
      "SVC overall accuracy for training is0.829048843188\n",
      "KMeans overall accuracy for training is0.822622107969\n",
      "SVC overall accuracy for predictive testing is0.879820051414\n",
      "KMeans overall accuracy for predictive testing is0.866323907455\n",
      "SVC subset accuracy for testing is0.588114754098\n",
      "KMeans subset accuracy for testing is0.727459016393\n",
      "SVC subset accuracy for predictive testing is0.608606557377\n",
      "KMeans subset accuracy for predictive testing is0.764344262295\n"
     ]
    }
   ],
   "source": [
    "model2=KNeighborsClassifier()\n",
    "clusteringalgo([\"Demographic_Cluster0\",\"Demographic_Cluster1\",\"Demographic_Cluster2\",\"Demographic_Cluster3\",\n",
    "            \"Demographic_Cluster4\",\"Demographic_Cluster5\",\"Demographic_Cluster6\",\"Education_Cluster0\",\n",
    "              \"Education_Cluster1\",\"Education_Cluster2\",\"Education_Cluster3\",\"Education_Cluster4\",\n",
    "                \"Education_Cluster5\"],'Winner2012',\"Winner2016\",df,dems)"
   ]
  },
  {
   "cell_type": "code",
   "execution_count": 81,
   "metadata": {
    "collapsed": false
   },
   "outputs": [
    {
     "name": "stdout",
     "output_type": "stream",
     "text": [
      "SVC overall accuracy for training is0.956940874036\n",
      "KMeans overall accuracy for training is0.812017994859\n",
      "SVC overall accuracy for predictive testing is0.914524421594\n",
      "KMeans overall accuracy for predictive testing is0.848650385604\n",
      "SVC subset accuracy for testing is0.83606557377\n",
      "KMeans subset accuracy for testing is0.362704918033\n",
      "SVC subset accuracy for predictive testing is0.795081967213\n",
      "KMeans subset accuracy for predictive testing is0.325819672131\n"
     ]
    }
   ],
   "source": [
    "clusteringalgo([\"Demographic_Cluster0\",\"Demographic_Cluster1\",\"Demographic_Cluster2\",\"Demographic_Cluster3\",\n",
    "            \"Demographic_Cluster4\",\"Demographic_Cluster5\",\"Demographic_Cluster6\",\"MedianIncome\"],'Winner2012',\"Winner2016\",df,dems)"
   ]
  },
  {
   "cell_type": "code",
   "execution_count": 82,
   "metadata": {
    "collapsed": false
   },
   "outputs": [
    {
     "name": "stdout",
     "output_type": "stream",
     "text": [
      "SVC overall accuracy for training is0.781491002571\n",
      "KMeans overall accuracy for training is0.778277634961\n",
      "SVC overall accuracy for predictive testing is0.845115681234\n",
      "KMeans overall accuracy for predictive testing is0.84383033419\n",
      "SVC subset accuracy for testing is0.0655737704918\n",
      "KMeans subset accuracy for testing is0.122950819672\n",
      "SVC subset accuracy for predictive testing is0.0245901639344\n",
      "KMeans subset accuracy for predictive testing is0.0983606557377\n"
     ]
    }
   ],
   "source": [
    "clusteringalgo([\"Economic_Cluster0\",\"Economic_Cluster1\",\"Economic_Cluster2\",\"Economic_Cluster3\",\n",
    "            \"Economic_Cluster4\",\"Economic_Cluster5\",\"Economic_Cluster6\",\"Economic_Cluster7\",\"Economic_Cluster8\",],\n",
    "               \"Winner2012\",\"Winner2016\",df,dems)"
   ]
  },
  {
   "cell_type": "code",
   "execution_count": 83,
   "metadata": {
    "collapsed": false
   },
   "outputs": [
    {
     "name": "stdout",
     "output_type": "stream",
     "text": [
      "SVC overall accuracy for training is1.0\n",
      "KMeans overall accuracy for training is0.845115681234\n",
      "SVC overall accuracy for predictive testing is0.9235218509\n",
      "KMeans overall accuracy for predictive testing is0.879820051414\n",
      "SVC subset accuracy for testing is1.0\n",
      "KMeans subset accuracy for testing is0.497950819672\n",
      "SVC subset accuracy for predictive testing is0.959016393443\n",
      "KMeans subset accuracy for predictive testing is0.477459016393\n"
     ]
    }
   ],
   "source": [
    "clusteringalgo([\"Pop2014\",\"Pop2010EST\",\"Pop%Change\",\"Pop2010\",\n",
    "                    \"Under5%\",\"Under18%\",\"Over65%\",\"Female%\",\n",
    "                     \"White%\",\"Black%\",\"NativeA%\",\"Asian%\",\n",
    "                    \"PIsland%\",\"TwoRace%\",\"Latino\", \"WhiteNLat%\",\n",
    "                     \"SameHouse1yr%\",\"ForeignBorn%\",\"NonEnglish%\",\"HighSchoolGrad%\",\n",
    "                    \"Bachelor%\",\"Veteran\", \"TravelTime\",\"HousingUnits\", \n",
    "                     \"OwnershipRate\",\"UnitsinMultiUnit%\",\"MedianValueHousing\",\n",
    "                     \"Households\",\"PerCapitaIncome\",\"MedianIncome\",\"%BelowPoverty\",\n",
    "                     \"PrivateNotFarmsEstablish\",\"PrivateNotFarmEmploy\",\"NotFarm%Change\",\"NonEmployerEstablish\",\n",
    "                    \"Black-owned%\",\"Native-owned%\",\"Asian-owned%\",\"PIslnder-owned%\",\n",
    "                     \"Hispanic-owned%\",\"Woman-owned\",\"Manfact shipments 1k\",\n",
    "                    \"Merchant sales 1k\",\"Retail sales 1k\",\"Retail sales/capita\",\n",
    "                     \"Accomd/FoodServ sales 1k\",\"BuildingPermits\",\"LandArea\",\"Pop/SqMile\"],\"Winner2012\",\"Winner2016\",df,dems)"
   ]
  },
  {
   "cell_type": "code",
   "execution_count": 84,
   "metadata": {
    "collapsed": false
   },
   "outputs": [
    {
     "name": "stdout",
     "output_type": "stream",
     "text": [
      "SVC overall accuracy for training is0.910989717224\n",
      "KMeans overall accuracy for training is0.883354755784\n",
      "SVC overall accuracy for predictive testing is0.942480719794\n",
      "KMeans overall accuracy for predictive testing is0.920629820051\n",
      "SVC subset accuracy for testing is0.790983606557\n",
      "KMeans subset accuracy for testing is0.709016393443\n",
      "SVC subset accuracy for predictive testing is0.754098360656\n",
      "KMeans subset accuracy for predictive testing is0.717213114754\n"
     ]
    }
   ],
   "source": [
    "clusteringalgo([\"Female%\",\n",
    "                     \"White%\",\"Black%\",\"NativeA%\",\"Asian%\",\n",
    "                    \"PIsland%\",\"TwoRace%\",\"Latino\", \"WhiteNLat%\"],\"Winner2012\",\"Winner2016\",df,dems)"
   ]
  },
  {
   "cell_type": "code",
   "execution_count": 85,
   "metadata": {
    "collapsed": false
   },
   "outputs": [
    {
     "name": "stdout",
     "output_type": "stream",
     "text": [
      "SVC overall accuracy for training is0.910989717224\n",
      "KMeans overall accuracy for training is0.883354755784\n",
      "SVC overall accuracy for predictive testing is0.942480719794\n",
      "KMeans overall accuracy for predictive testing is0.920629820051\n",
      "SVC subset accuracy for testing is1.0\n",
      "KMeans subset accuracy for testing is0.785714285714\n",
      "SVC subset accuracy for predictive testing is0.714285714286\n",
      "KMeans subset accuracy for predictive testing is0.642857142857\n"
     ]
    }
   ],
   "source": [
    "clusteringalgo([\"Female%\",\n",
    "                     \"White%\",\"Black%\",\"NativeA%\",\"Asian%\",\n",
    "                    \"PIsland%\",\"TwoRace%\",\"Latino\", \"WhiteNLat%\"],\"Winner2012\",\"Winner2016\",df,df[df['Demographic_Cluster4']!=0])"
   ]
  },
  {
   "cell_type": "code",
   "execution_count": 86,
   "metadata": {
    "collapsed": false
   },
   "outputs": [
    {
     "name": "stdout",
     "output_type": "stream",
     "text": [
      "SVC overall accuracy for training is0.910989717224\n",
      "KMeans overall accuracy for training is0.883354755784\n",
      "SVC overall accuracy for predictive testing is0.942480719794\n",
      "KMeans overall accuracy for predictive testing is0.920629820051\n",
      "SVC subset accuracy for testing is0.941908713693\n",
      "KMeans subset accuracy for testing is0.900414937759\n",
      "SVC subset accuracy for predictive testing is0.879668049793\n",
      "KMeans subset accuracy for predictive testing is0.879668049793\n"
     ]
    }
   ],
   "source": [
    "clusteringalgo([\"Female%\",\n",
    "                     \"White%\",\"Black%\",\"NativeA%\",\"Asian%\",\n",
    "                    \"PIsland%\",\"TwoRace%\",\"Latino\", \"WhiteNLat%\"],\"Winner2012\",\"Winner2016\",df,df[df['Demographic_Cluster0']!=0])"
   ]
  },
  {
   "cell_type": "code",
   "execution_count": 87,
   "metadata": {
    "collapsed": false
   },
   "outputs": [
    {
     "name": "stdout",
     "output_type": "stream",
     "text": [
      "SVC overall accuracy for training is0.910989717224\n",
      "KMeans overall accuracy for training is0.883354755784\n",
      "SVC overall accuracy for predictive testing is0.942480719794\n",
      "KMeans overall accuracy for predictive testing is0.920629820051\n",
      "SVC subset accuracy for testing is0.991304347826\n",
      "KMeans subset accuracy for testing is0.852173913043\n",
      "SVC subset accuracy for predictive testing is0.947826086957\n",
      "KMeans subset accuracy for predictive testing is0.895652173913\n"
     ]
    }
   ],
   "source": [
    "clusteringalgo([\"Female%\",\n",
    "                     \"White%\",\"Black%\",\"NativeA%\",\"Asian%\",\n",
    "                    \"PIsland%\",\"TwoRace%\",\"Latino\", \"WhiteNLat%\"],\"Winner2012\",\"Winner2016\",df,df[df['Demographic_Cluster3']!=0])"
   ]
  },
  {
   "cell_type": "code",
   "execution_count": 88,
   "metadata": {
    "collapsed": false
   },
   "outputs": [],
   "source": [
    "swing_states=[\"AZ\",\"FL\",\"GA\",\"NH\",\"NC\",\"CO\",\"MI\",\"NV\",\"VA\",\"PA\",\"WI\",\"OH\"]"
   ]
  },
  {
   "cell_type": "code",
   "execution_count": 89,
   "metadata": {
    "collapsed": false
   },
   "outputs": [],
   "source": [
    "swingers=df[df['state_abbreviation'].isin(swing_states)]"
   ]
  },
  {
   "cell_type": "code",
   "execution_count": 90,
   "metadata": {
    "collapsed": false
   },
   "outputs": [
    {
     "name": "stdout",
     "output_type": "stream",
     "text": [
      "SVC overall accuracy for training is0.915428571429\n",
      "KMeans overall accuracy for training is0.851428571429\n",
      "SVC overall accuracy for predictive testing is0.926857142857\n",
      "KMeans overall accuracy for predictive testing is0.885714285714\n",
      "SVC subset accuracy for testing is0.960784313725\n",
      "KMeans subset accuracy for testing is0.862745098039\n",
      "SVC subset accuracy for predictive testing is0.901960784314\n",
      "KMeans subset accuracy for predictive testing is0.843137254902\n"
     ]
    }
   ],
   "source": [
    "clusteringalgo([\"Female%\",\n",
    "                     \"White%\",\"Black%\",\"NativeA%\",\"Asian%\",\n",
    "                    \"PIsland%\",\"TwoRace%\",\"Latino\", \"WhiteNLat%\"],\"Winner2012\",\"Winner2016\",swingers,swingers[swingers['Demographic_Cluster0']==1])"
   ]
  },
  {
   "cell_type": "code",
   "execution_count": 91,
   "metadata": {
    "collapsed": false
   },
   "outputs": [
    {
     "name": "stdout",
     "output_type": "stream",
     "text": [
      "SVC overall accuracy for training is0.915428571429\n",
      "KMeans overall accuracy for training is0.851428571429\n",
      "SVC overall accuracy for predictive testing is0.926857142857\n",
      "KMeans overall accuracy for predictive testing is0.885714285714\n",
      "SVC subset accuracy for testing is1.0\n",
      "KMeans subset accuracy for testing is0.774647887324\n",
      "SVC subset accuracy for predictive testing is0.943661971831\n",
      "KMeans subset accuracy for predictive testing is0.802816901408\n"
     ]
    }
   ],
   "source": [
    "clusteringalgo([\"Female%\",\n",
    "                     \"White%\",\"Black%\",\"NativeA%\",\"Asian%\",\n",
    "                    \"PIsland%\",\"TwoRace%\",\"Latino\", \"WhiteNLat%\"],\"Winner2012\",\"Winner2016\",swingers,swingers[swingers['Demographic_Cluster1']==1])"
   ]
  },
  {
   "cell_type": "code",
   "execution_count": 92,
   "metadata": {
    "collapsed": false
   },
   "outputs": [
    {
     "name": "stdout",
     "output_type": "stream",
     "text": [
      "SVC overall accuracy for training is0.915428571429\n",
      "KMeans overall accuracy for training is0.851428571429\n",
      "SVC overall accuracy for predictive testing is0.926857142857\n",
      "KMeans overall accuracy for predictive testing is0.885714285714\n",
      "SVC subset accuracy for testing is1.0\n",
      "KMeans subset accuracy for testing is0.666666666667\n",
      "SVC subset accuracy for predictive testing is0.888888888889\n",
      "KMeans subset accuracy for predictive testing is0.777777777778\n"
     ]
    }
   ],
   "source": [
    "clusteringalgo([\"Female%\",\n",
    "                     \"White%\",\"Black%\",\"NativeA%\",\"Asian%\",\n",
    "                    \"PIsland%\",\"TwoRace%\",\"Latino\", \"WhiteNLat%\"],\"Winner2012\",\"Winner2016\",swingers,swingers[swingers['Demographic_Cluster3']==1])"
   ]
  },
  {
   "cell_type": "code",
   "execution_count": 94,
   "metadata": {
    "collapsed": false
   },
   "outputs": [
    {
     "name": "stdout",
     "output_type": "stream",
     "text": [
      "SVC overall accuracy for training is1.0\n",
      "KMeans overall accuracy for training is0.779428571429\n",
      "SVC overall accuracy for predictive testing is0.904\n",
      "KMeans overall accuracy for predictive testing is0.811428571429\n",
      "SVC subset accuracy for testing is1.0\n",
      "KMeans subset accuracy for testing is0.684931506849\n",
      "SVC subset accuracy for predictive testing is0.876712328767\n",
      "KMeans subset accuracy for predictive testing is0.643835616438\n"
     ]
    }
   ],
   "source": [
    "clusteringalgo(['Female%',\n",
    " 'White%',\n",
    " 'Black%',\n",
    " 'NativeA%',\n",
    " 'Asian%',\n",
    " 'PIsland%',\n",
    " 'TwoRace%',\n",
    " 'Latino',\n",
    " 'WhiteNLat%',\n",
    " 'PerCapitaIncome',\n",
    " 'MedianIncome',\n",
    " '%BelowPoverty'],\"Winner2012\",\"Winner2016\",swingers,swingers[swingers['Combined_Cluster0']==1])"
   ]
  },
  {
   "cell_type": "code",
   "execution_count": 99,
   "metadata": {
    "collapsed": false
   },
   "outputs": [
    {
     "name": "stdout",
     "output_type": "stream",
     "text": [
      "SVC overall accuracy for training is1.0\n",
      "KMeans overall accuracy for training is0.779428571429\n",
      "SVC overall accuracy for predictive testing is0.904\n",
      "KMeans overall accuracy for predictive testing is0.811428571429\n",
      "SVC subset accuracy for testing is1.0\n",
      "KMeans subset accuracy for testing is0.765625\n",
      "SVC subset accuracy for predictive testing is0.890625\n",
      "KMeans subset accuracy for predictive testing is0.8125\n"
     ]
    }
   ],
   "source": [
    "clusteringalgo(['Female%',\n",
    " 'White%',\n",
    " 'Black%',\n",
    " 'NativeA%',\n",
    " 'Asian%',\n",
    " 'PIsland%',\n",
    " 'TwoRace%',\n",
    " 'Latino',\n",
    " 'WhiteNLat%',\n",
    " 'PerCapitaIncome',\n",
    " 'MedianIncome',\n",
    " '%BelowPoverty'],\"Winner2012\",\"Winner2016\",swingers,swingers[swingers['Combined_Cluster4']==1])"
   ]
  },
  {
   "cell_type": "code",
   "execution_count": 100,
   "metadata": {
    "collapsed": false
   },
   "outputs": [
    {
     "name": "stdout",
     "output_type": "stream",
     "text": [
      "SVC overall accuracy for training is1.0\n",
      "KMeans overall accuracy for training is0.779428571429\n",
      "SVC overall accuracy for predictive testing is0.904\n",
      "KMeans overall accuracy for predictive testing is0.811428571429\n",
      "SVC subset accuracy for testing is1.0\n",
      "KMeans subset accuracy for testing is0.756756756757\n",
      "SVC subset accuracy for predictive testing is0.918918918919\n",
      "KMeans subset accuracy for predictive testing is0.837837837838\n"
     ]
    }
   ],
   "source": [
    "clusteringalgo(['Female%',\n",
    " 'White%',\n",
    " 'Black%',\n",
    " 'NativeA%',\n",
    " 'Asian%',\n",
    " 'PIsland%',\n",
    " 'TwoRace%',\n",
    " 'Latino',\n",
    " 'WhiteNLat%',\n",
    " 'PerCapitaIncome',\n",
    " 'MedianIncome',\n",
    " '%BelowPoverty'],\"Winner2012\",\"Winner2016\",swingers,swingers[swingers['Combined_Cluster5']==1])"
   ]
  },
  {
   "cell_type": "code",
   "execution_count": null,
   "metadata": {
    "collapsed": true
   },
   "outputs": [],
   "source": []
  }
 ],
 "metadata": {
  "kernelspec": {
   "display_name": "Python 3",
   "language": "python",
   "name": "python3"
  },
  "language_info": {
   "codemirror_mode": {
    "name": "ipython",
    "version": 3
   },
   "file_extension": ".py",
   "mimetype": "text/x-python",
   "name": "python",
   "nbconvert_exporter": "python",
   "pygments_lexer": "ipython3",
   "version": "3.5.2"
  }
 },
 "nbformat": 4,
 "nbformat_minor": 1
}
