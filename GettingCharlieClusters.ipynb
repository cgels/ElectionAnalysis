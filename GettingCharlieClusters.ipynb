{
 "cells": [
  {
   "cell_type": "code",
   "execution_count": 75,
   "metadata": {
    "collapsed": true
   },
   "outputs": [],
   "source": [
    "import pandas as pd\n",
    "import numpy as np\n",
    "from sklearn import cluster as skclust\n",
    "from sklearn import preprocessing as skproc\n",
    "from sklearn import metrics as skmetric\n",
    "import matplotlib.pyplot as plt\n",
    "import time\n",
    "import re\n",
    "from sklearn.cluster import AgglomerativeClustering\n",
    "%matplotlib inline\n",
    "import pandas as pd \n",
    "from sklearn.model_selection import cross_val_score\n",
    "from sklearn.svm import SVC\n",
    "from sklearn.neighbors import KNeighborsClassifier\n",
    "import matplotlib.pyplot as plt\n",
    "%matplotlib inline"
   ]
  },
  {
   "cell_type": "code",
   "execution_count": 16,
   "metadata": {
    "collapsed": true
   },
   "outputs": [],
   "source": [
    "df = pd.read_csv(\"data/county_facts.csv\")"
   ]
  },
  {
   "cell_type": "code",
   "execution_count": 17,
   "metadata": {
    "collapsed": true
   },
   "outputs": [],
   "source": [
    "rename_map={\"PST045214\": \"Pop2014\",\n",
    "            \"PST040210\": \"Pop2010EST\",\n",
    "            \"PST120214\": \"Pop%Change\",\n",
    "            \"POP010210\": \"Pop2010\",\n",
    "            \"AGE135214\": \"Under5%\",\n",
    "            \"AGE295214\": \"Under18%\",\n",
    "            \"AGE775214\": \"Over65%\",\n",
    "            \"SEX255214\": \"Female%\",\n",
    "            \"RHI125214\": \"White%\",\n",
    "            \"RHI225214\": \"Black%\",\n",
    "            \"RHI325214\": \"NativeA%\",\n",
    "            \"RHI425214\": \"Asian%\",\n",
    "            \"RHI525214\": \"PIsland%\",\n",
    "            \"RHI625214\": \"TwoRace%\",\n",
    "            \"RHI725214\": \"Latino\",\n",
    "            \"RHI825214\": \"WhiteNLat%\",\n",
    "            \"POP715213\": \"SameHouse1yr%\",\n",
    "            \"POP645213\": \"ForeignBorn%\",\n",
    "            \"POP815213\": \"NonEnglish%\",\n",
    "            \"EDU635213\": \"HighSchoolGrad%\",\n",
    "            \"EDU685213\": \"Bachelor%\",\n",
    "            \"VET605213\": \"Veteran\",\n",
    "            \"LFE305213\": \"TravelTime\",\n",
    "            \"HSG010214\": \"HousingUnits\",\n",
    "            \"HSG445213\": \"OwnershipRate\",\n",
    "            \"HSG096213\": \"UnitsinMultiUnit%\",\n",
    "            \"HSG495213\": \"MedianValueHousing\",\n",
    "            \"HSD410213\": \"Households\",\n",
    "            \"INC910213\": \"PerCapitaIncome\",\n",
    "            \"INC110213\": \"MedianIncome\",\n",
    "            \"PVY020213\": \"%BelowPoverty\",\n",
    "            \"BZA010213\": \"PrivateNotFarmsEstablish\",\n",
    "            \"BZA110213\": \"PrivateNotFarmEmploy\",\n",
    "            \"BZA115213\": \"NotFarm%Change\",\n",
    "            \"NES010213\": \"NonEmployerEstablish\",\n",
    "            \"SBO315207\": \"Black-owned%\",\n",
    "            \"SBO115207\": \"Native-owned%\",\n",
    "            \"SBO215207\": \"Asian-owned%\",\n",
    "            \"SBO515207\": \"PIslnder-owned%\",\n",
    "            \"SBO415207\": \"Hispanic-owned%\",\n",
    "            \"SBO015207\": \"Woman-owned\",\n",
    "            \"MAN450207\": \"Manfact shipments 1k\",\n",
    "            \"WTN220207\": \"Merchant sales 1k\",\n",
    "            \"RTN130207\": \"Retail sales 1k\",\n",
    "            \"RTN131207\": \"Retail sales/capita\",\n",
    "            \"AFN120207\": \"Accomd/FoodServ sales 1k\",\n",
    "            \"BPS030214\": \"BuildingPermits\",\n",
    "            \"LND110210\": \"LandArea\",\n",
    "            \"POP060210\": \"Pop/SqMile\"}\n",
    "df=df.rename(index=str,columns=rename_map)"
   ]
  },
  {
   "cell_type": "code",
   "execution_count": 18,
   "metadata": {
    "collapsed": true
   },
   "outputs": [],
   "source": [
    "## aggregate state/national data hold NaN values in state_abbrev\n",
    "counties = df.dropna()\n",
    "not_counties = df[~df.index.isin(counties.index)]"
   ]
  },
  {
   "cell_type": "code",
   "execution_count": 19,
   "metadata": {
    "collapsed": true
   },
   "outputs": [],
   "source": [
    "vote_data = pd.read_csv(\"data/US_County_Level_Presidential_Results_12-16.csv\").rename(columns={\"FIPS\":\"fips\"})\n",
    "rm = ['combined_fips', 'state_abbr', 'Unnamed: 0', 'county_name', 'county_fips', 'state_fips']\n",
    "counties = pd.merge(counties, vote_data, on=\"fips\").drop(rm, axis=1).dropna()\n",
    "swing_states=[\"AZ\",\"FL\",\"GA\",\"NH\",\"NC\",\"CO\",\"MI\",\"NV\",\"VA\",\"PA\",\"WI\",\"OH\"]\n",
    "swingers=df[df['state_abbreviation'].isin(swing_states)]"
   ]
  },
  {
   "cell_type": "code",
   "execution_count": 20,
   "metadata": {
    "collapsed": true
   },
   "outputs": [],
   "source": [
    "### County size / population density\n",
    "geographic_predictors =  [\"Pop/SqMile\"]\n",
    "\n",
    "#### Population/Age/Education\n",
    "county_demog_predictors = [\"Pop%Change\", \"Under5%\",\"Under18%\", \"Over65%\",\n",
    "                          \"HighSchoolGrad%\",\"Bachelor%\", \"Veteran\"]\n",
    "### HOUSING \n",
    "housing_predictors = [\"SameHouse1yr%\", \"TravelTime\", \"HousingUnits\", \"OwnershipRate\", \"UnitsinMultiUnit%\",\n",
    "                        \"MedianValueHousing\", \"Households\"]\n",
    "### ECONOMIC\n",
    "econ_predictors = [\"PerCapitaIncome\", \"MedianIncome\", \"%BelowPoverty\", \"PrivateNotFarmsEstablish\",\n",
    "                   \"PrivateNotFarmEmploy\", \"NotFarm%Change\", \"NonEmployerEstablish\",\"Manfact shipments 1k\",\n",
    "                   \"Merchant sales 1k\", \"Retail sales/capita\", \"Retail sales/capita\", \"BuildingPermits\"]\n",
    "##### ETHNIC \n",
    "racial_predictors = [\"Female%\", \"White%\", \"Black%\",\"NativeA%\",\"Asian%\",\"PIsland%\",\n",
    "                     \"TwoRace%\",\"Latino\",\"WhiteNLat%\",\"ForeignBorn%\",\n",
    "                     \"NonEnglish%\"]\n",
    "#### ETHNIC ECONO\n",
    "racial_econo_predictors = [\"Black-owned%\",\"Native-owned%\",\"Asian-owned%\",\"PIslnder-owned%\",\"Woman-owned\"]\n",
    "\n",
    "## VOTING\n",
    "vote_predictors = ['total_votes_2016', 'per_dem_2016', 'per_gop_2016', 'per_point_diff_2016',\n",
    "                   'total_votes_2012', 'per_dem_2012', 'per_gop_2012', 'per_point_diff_2012', \"turnout_2016\", \"turnout_2012\"]\n",
    "#     ['votes_dem_2016', 'votes_gop_2016', 'total_votes_2016', 'per_dem_2016',\n",
    "#        'per_gop_2016', 'diff_2016', 'per_point_diff_2016', 'total_votes_2012',\n",
    "#        'votes_dem_2012', 'votes_gop_2012', 'per_dem_2012', 'per_gop_2012',\n",
    "#        'diff_2012', 'per_point_diff_2012']"
   ]
  },
  {
   "cell_type": "code",
   "execution_count": 21,
   "metadata": {
    "collapsed": true
   },
   "outputs": [],
   "source": [
    "# racial: kmeans 3 demographic: kmeans 3 economic: 3 spectral housing: kmeans 3socioeconomic: spectral 4voting: kmeans 2"
   ]
  },
  {
   "cell_type": "code",
   "execution_count": 22,
   "metadata": {
    "collapsed": false
   },
   "outputs": [
    {
     "ename": "NameError",
     "evalue": "name 'k' is not defined",
     "output_type": "error",
     "traceback": [
      "\u001b[0;31m---------------------------------------------------------------------------\u001b[0m",
      "\u001b[0;31mNameError\u001b[0m                                 Traceback (most recent call last)",
      "\u001b[0;32m<ipython-input-22-c69964f7837f>\u001b[0m in \u001b[0;36m<module>\u001b[0;34m()\u001b[0m\n\u001b[1;32m      5\u001b[0m \u001b[0mspec\u001b[0m \u001b[0;34m=\u001b[0m \u001b[0mskclust\u001b[0m\u001b[0;34m.\u001b[0m\u001b[0mSpectralClustering\u001b[0m\u001b[0;34m(\u001b[0m\u001b[0mn_clusters\u001b[0m\u001b[0;34m=\u001b[0m\u001b[0;36m4\u001b[0m\u001b[0;34m,\u001b[0m \u001b[0mn_jobs\u001b[0m\u001b[0;34m=\u001b[0m\u001b[0;34m-\u001b[0m\u001b[0;36m1\u001b[0m\u001b[0;34m)\u001b[0m\u001b[0;34m\u001b[0m\u001b[0m\n\u001b[1;32m      6\u001b[0m \u001b[0mdf\u001b[0m\u001b[0;34m[\u001b[0m\u001b[0;34m'Racial_Economic_Cluster'\u001b[0m\u001b[0;34m]\u001b[0m\u001b[0;34m=\u001b[0m\u001b[0mspec\u001b[0m\u001b[0;34m.\u001b[0m\u001b[0mfit_predict\u001b[0m\u001b[0;34m(\u001b[0m\u001b[0mX\u001b[0m\u001b[0;34m)\u001b[0m\u001b[0;34m\u001b[0m\u001b[0m\n\u001b[0;32m----> 7\u001b[0;31m \u001b[0mkmeans\u001b[0m \u001b[0;34m=\u001b[0m \u001b[0mskclust\u001b[0m\u001b[0;34m.\u001b[0m\u001b[0mKMeans\u001b[0m\u001b[0;34m(\u001b[0m\u001b[0mn_clusters\u001b[0m\u001b[0;34m=\u001b[0m\u001b[0mk\u001b[0m\u001b[0;34m,\u001b[0m \u001b[0mn_jobs\u001b[0m\u001b[0;34m=\u001b[0m\u001b[0;34m-\u001b[0m\u001b[0;36m1\u001b[0m\u001b[0;34m,\u001b[0m \u001b[0mprecompute_distances\u001b[0m\u001b[0;34m=\u001b[0m\u001b[0;32mTrue\u001b[0m\u001b[0;34m,\u001b[0m \u001b[0mn_init\u001b[0m\u001b[0;34m=\u001b[0m\u001b[0;36m15\u001b[0m\u001b[0;34m)\u001b[0m\u001b[0;34m\u001b[0m\u001b[0m\n\u001b[0m",
      "\u001b[0;31mNameError\u001b[0m: name 'k' is not defined"
     ]
    }
   ],
   "source": [
    "X = skproc.normalize(df[econ_predictors])\n",
    "spec = skclust.SpectralClustering(n_clusters=3, n_jobs=-1)\n",
    "df['Economic_Cluster']=spec.fit_predict(X)\n",
    "X = skproc.normalize(df[racial_econo_predictors])\n",
    "spec = skclust.SpectralClustering(n_clusters=4, n_jobs=-1)\n",
    "df['Racial_Economic_Cluster']=spec.fit_predict(X)\n",
    "kmeans = skclust.KMeans(n_clusters=k, n_jobs=-1, precompute_distances=True, n_init=15)"
   ]
  },
  {
   "cell_type": "code",
   "execution_count": 29,
   "metadata": {
    "collapsed": false
   },
   "outputs": [
    {
     "name": "stderr",
     "output_type": "stream",
     "text": [
      "/opt/conda/lib/python3.5/site-packages/ipykernel/__main__.py:2: SettingWithCopyWarning: \n",
      "A value is trying to be set on a copy of a slice from a DataFrame.\n",
      "Try using .loc[row_indexer,col_indexer] = value instead\n",
      "\n",
      "See the caveats in the documentation: http://pandas.pydata.org/pandas-docs/stable/indexing.html#indexing-view-versus-copy\n",
      "  from ipykernel import kernelapp as app\n"
     ]
    }
   ],
   "source": [
    "model=AgglomerativeClustering(n_clusters=4)\n",
    "swingers['Racial_Cluster']=model.fit_predict(swingers[racial_predictors])"
   ]
  },
  {
   "cell_type": "code",
   "execution_count": 40,
   "metadata": {
    "collapsed": false
   },
   "outputs": [
    {
     "data": {
      "text/html": [
       "<div>\n",
       "<table border=\"1\" class=\"dataframe\">\n",
       "  <thead>\n",
       "    <tr style=\"text-align: right;\">\n",
       "      <th></th>\n",
       "      <th>fips</th>\n",
       "      <th>area_name</th>\n",
       "      <th>state_abbreviation</th>\n",
       "      <th>Pop2014</th>\n",
       "      <th>Pop2010EST</th>\n",
       "      <th>Pop%Change</th>\n",
       "      <th>Pop2010</th>\n",
       "      <th>Under5%</th>\n",
       "      <th>Under18%</th>\n",
       "      <th>Over65%</th>\n",
       "      <th>...</th>\n",
       "      <th>Woman-owned</th>\n",
       "      <th>Manfact shipments 1k</th>\n",
       "      <th>Merchant sales 1k</th>\n",
       "      <th>Retail sales 1k</th>\n",
       "      <th>Retail sales/capita</th>\n",
       "      <th>Accomd/FoodServ sales 1k</th>\n",
       "      <th>BuildingPermits</th>\n",
       "      <th>LandArea</th>\n",
       "      <th>Pop/SqMile</th>\n",
       "      <th>Economic_Cluster</th>\n",
       "    </tr>\n",
       "    <tr>\n",
       "      <th>Racial_Cluster</th>\n",
       "      <th></th>\n",
       "      <th></th>\n",
       "      <th></th>\n",
       "      <th></th>\n",
       "      <th></th>\n",
       "      <th></th>\n",
       "      <th></th>\n",
       "      <th></th>\n",
       "      <th></th>\n",
       "      <th></th>\n",
       "      <th></th>\n",
       "      <th></th>\n",
       "      <th></th>\n",
       "      <th></th>\n",
       "      <th></th>\n",
       "      <th></th>\n",
       "      <th></th>\n",
       "      <th></th>\n",
       "      <th></th>\n",
       "      <th></th>\n",
       "      <th></th>\n",
       "    </tr>\n",
       "  </thead>\n",
       "  <tbody>\n",
       "    <tr>\n",
       "      <th>0</th>\n",
       "      <td>268</td>\n",
       "      <td>268</td>\n",
       "      <td>268</td>\n",
       "      <td>268</td>\n",
       "      <td>268</td>\n",
       "      <td>268</td>\n",
       "      <td>268</td>\n",
       "      <td>268</td>\n",
       "      <td>268</td>\n",
       "      <td>268</td>\n",
       "      <td>...</td>\n",
       "      <td>268</td>\n",
       "      <td>268</td>\n",
       "      <td>268</td>\n",
       "      <td>268</td>\n",
       "      <td>268</td>\n",
       "      <td>268</td>\n",
       "      <td>268</td>\n",
       "      <td>268</td>\n",
       "      <td>268</td>\n",
       "      <td>268</td>\n",
       "    </tr>\n",
       "    <tr>\n",
       "      <th>1</th>\n",
       "      <td>81</td>\n",
       "      <td>81</td>\n",
       "      <td>81</td>\n",
       "      <td>81</td>\n",
       "      <td>81</td>\n",
       "      <td>81</td>\n",
       "      <td>81</td>\n",
       "      <td>81</td>\n",
       "      <td>81</td>\n",
       "      <td>81</td>\n",
       "      <td>...</td>\n",
       "      <td>81</td>\n",
       "      <td>81</td>\n",
       "      <td>81</td>\n",
       "      <td>81</td>\n",
       "      <td>81</td>\n",
       "      <td>81</td>\n",
       "      <td>81</td>\n",
       "      <td>81</td>\n",
       "      <td>81</td>\n",
       "      <td>81</td>\n",
       "    </tr>\n",
       "    <tr>\n",
       "      <th>2</th>\n",
       "      <td>63</td>\n",
       "      <td>63</td>\n",
       "      <td>63</td>\n",
       "      <td>63</td>\n",
       "      <td>63</td>\n",
       "      <td>63</td>\n",
       "      <td>63</td>\n",
       "      <td>63</td>\n",
       "      <td>63</td>\n",
       "      <td>63</td>\n",
       "      <td>...</td>\n",
       "      <td>63</td>\n",
       "      <td>63</td>\n",
       "      <td>63</td>\n",
       "      <td>63</td>\n",
       "      <td>63</td>\n",
       "      <td>63</td>\n",
       "      <td>63</td>\n",
       "      <td>63</td>\n",
       "      <td>63</td>\n",
       "      <td>63</td>\n",
       "    </tr>\n",
       "    <tr>\n",
       "      <th>3</th>\n",
       "      <td>464</td>\n",
       "      <td>464</td>\n",
       "      <td>464</td>\n",
       "      <td>464</td>\n",
       "      <td>464</td>\n",
       "      <td>464</td>\n",
       "      <td>464</td>\n",
       "      <td>464</td>\n",
       "      <td>464</td>\n",
       "      <td>464</td>\n",
       "      <td>...</td>\n",
       "      <td>464</td>\n",
       "      <td>464</td>\n",
       "      <td>464</td>\n",
       "      <td>464</td>\n",
       "      <td>464</td>\n",
       "      <td>464</td>\n",
       "      <td>464</td>\n",
       "      <td>464</td>\n",
       "      <td>464</td>\n",
       "      <td>464</td>\n",
       "    </tr>\n",
       "  </tbody>\n",
       "</table>\n",
       "<p>4 rows × 55 columns</p>\n",
       "</div>"
      ],
      "text/plain": [
       "                fips  area_name  state_abbreviation  Pop2014  Pop2010EST  \\\n",
       "Racial_Cluster                                                             \n",
       "0                268        268                 268      268         268   \n",
       "1                 81         81                  81       81          81   \n",
       "2                 63         63                  63       63          63   \n",
       "3                464        464                 464      464         464   \n",
       "\n",
       "                Pop%Change  Pop2010  Under5%  Under18%  Over65%  \\\n",
       "Racial_Cluster                                                    \n",
       "0                      268      268      268       268      268   \n",
       "1                       81       81       81        81       81   \n",
       "2                       63       63       63        63       63   \n",
       "3                      464      464      464       464      464   \n",
       "\n",
       "                      ...         Woman-owned  Manfact shipments 1k  \\\n",
       "Racial_Cluster        ...                                             \n",
       "0                     ...                 268                   268   \n",
       "1                     ...                  81                    81   \n",
       "2                     ...                  63                    63   \n",
       "3                     ...                 464                   464   \n",
       "\n",
       "                Merchant sales 1k  Retail sales 1k  Retail sales/capita  \\\n",
       "Racial_Cluster                                                            \n",
       "0                             268              268                  268   \n",
       "1                              81               81                   81   \n",
       "2                              63               63                   63   \n",
       "3                             464              464                  464   \n",
       "\n",
       "                Accomd/FoodServ sales 1k  BuildingPermits  LandArea  \\\n",
       "Racial_Cluster                                                        \n",
       "0                                    268              268       268   \n",
       "1                                     81               81        81   \n",
       "2                                     63               63        63   \n",
       "3                                    464              464       464   \n",
       "\n",
       "                Pop/SqMile  Economic_Cluster  \n",
       "Racial_Cluster                                \n",
       "0                      268               268  \n",
       "1                       81                81  \n",
       "2                       63                63  \n",
       "3                      464               464  \n",
       "\n",
       "[4 rows x 55 columns]"
      ]
     },
     "execution_count": 40,
     "metadata": {},
     "output_type": "execute_result"
    }
   ],
   "source": [
    "swingers.groupby('Racial_Cluster').count()"
   ]
  },
  {
   "cell_type": "code",
   "execution_count": 34,
   "metadata": {
    "collapsed": true
   },
   "outputs": [],
   "source": [
    "def clusteringalgo(x,y,y2,df,df2):\n",
    "    model=SVC()\n",
    "    model2=KNeighborsClassifier()\n",
    "    model.fit(df[x],df[y])\n",
    "    model2.fit(df[x],df[y])\n",
    "    print(\"SVC overall accuracy for training is\"+str(model.score(df[x],df[y])))\n",
    "    print(\"KMeans overall accuracy for training is\"+str(model2.score(df[x],df[y])))\n",
    "    print(\"SVC overall accuracy for predictive testing is\"+str(model.score(df[x],df[y2])))\n",
    "    print(\"KMeans overall accuracy for predictive testing is\"+str(model2.score(df[x],df[y2])))\n",
    "    print(\"SVC subset accuracy for testing is\"+str(model.score(df2[x],df2[y])))\n",
    "    print(\"KMeans subset accuracy for testing is\"+str(model2.score(df2[x],df2[y])))\n",
    "    print(\"SVC subset accuracy for predictive testing is\"+str(model.score(df2[x],df2[y2])))\n",
    "    print(\"KMeans subset accuracy for predictive testing is\"+str(model2.score(df2[x],df2[y2])))"
   ]
  },
  {
   "cell_type": "code",
   "execution_count": 85,
   "metadata": {
    "collapsed": false
   },
   "outputs": [
    {
     "name": "stderr",
     "output_type": "stream",
     "text": [
      "/opt/conda/lib/python3.5/site-packages/ipykernel/__main__.py:4: SettingWithCopyWarning: \n",
      "A value is trying to be set on a copy of a slice from a DataFrame.\n",
      "Try using .loc[row_indexer,col_indexer] = value instead\n",
      "\n",
      "See the caveats in the documentation: http://pandas.pydata.org/pandas-docs/stable/indexing.html#indexing-view-versus-copy\n"
     ]
    }
   ],
   "source": [
    "df2=pd.read_csv(\"data/US_County_Level_Presidential_Results_12-16.csv\")\n",
    "df2=df2.drop('Unnamed: 0',axis=1)\n",
    "df2=df2[df2['state_abbr']!=\"AK\"]\n",
    "swingers['FIPS']=swingers['fips']\n",
    "merged=pd.merge(swingers,df2, on='FIPS')\n",
    "merged['change']=merged['per_point_diff_2016']-merged['per_point_diff_2012']\n",
    "merged['Winner2016']=0\n",
    "merged.ix[merged['per_point_diff_2016']>0,'Winner2016']=1\n",
    "merged['Winner2012']=0\n",
    "merged.ix[merged['per_point_diff_2012']>0,'Winner2012']=1\n",
    "merged['Winner_2016']=\"R2016\"\n",
    "merged.ix[merged['per_point_diff_2016']>0,'Winner_2016']=\"D2016\"\n",
    "merged['Winner_2012']=\"R2012\"\n",
    "merged.ix[merged['per_point_diff_2012']>0,'Winner_2012']=\"D2012\"\n",
    "dems=merged[merged['Winner2016']==1]"
   ]
  },
  {
   "cell_type": "code",
   "execution_count": 43,
   "metadata": {
    "collapsed": false
   },
   "outputs": [
    {
     "name": "stdout",
     "output_type": "stream",
     "text": [
      "SVC overall accuracy for training is0.925714285714\n",
      "KMeans overall accuracy for training is0.857142857143\n",
      "SVC overall accuracy for predictive testing is0.921142857143\n",
      "KMeans overall accuracy for predictive testing is0.898285714286\n",
      "SVC subset accuracy for testing is1.0\n",
      "KMeans subset accuracy for testing is0.814814814815\n",
      "SVC subset accuracy for predictive testing is0.925925925926\n",
      "KMeans subset accuracy for predictive testing is0.83950617284\n"
     ]
    }
   ],
   "source": [
    "clusteringalgo([\"Female%\", \"White%\", \"Black%\",\"NativeA%\",\"Asian%\",\"PIsland%\",\n",
    "                     \"TwoRace%\",\"Latino\",\"WhiteNLat%\",\"ForeignBorn%\",\n",
    "                     \"NonEnglish%\"],\"Winner2012\",\"Winner2016\",merged,merged[merged['Racial_Cluster']==1])"
   ]
  },
  {
   "cell_type": "code",
   "execution_count": 49,
   "metadata": {
    "collapsed": false
   },
   "outputs": [
    {
     "name": "stdout",
     "output_type": "stream",
     "text": [
      "SVC overall accuracy for training is0.925714285714\n",
      "KMeans overall accuracy for training is0.857142857143\n",
      "SVC overall accuracy for predictive testing is0.921142857143\n",
      "KMeans overall accuracy for predictive testing is0.898285714286\n",
      "SVC subset accuracy for testing is0.890086206897\n",
      "KMeans subset accuracy for testing is0.851293103448\n",
      "SVC subset accuracy for predictive testing is0.926724137931\n",
      "KMeans subset accuracy for predictive testing is0.913793103448\n"
     ]
    }
   ],
   "source": [
    "clusteringalgo([\"Female%\", \"White%\", \"Black%\",\"NativeA%\",\"Asian%\",\"PIsland%\",\n",
    "                     \"TwoRace%\",\"Latino\",\"WhiteNLat%\",\"ForeignBorn%\",\n",
    "                     \"NonEnglish%\"],\"Winner2012\",\"Winner2016\",merged,merged[merged['Racial_Cluster']==3])"
   ]
  },
  {
   "cell_type": "code",
   "execution_count": 48,
   "metadata": {
    "collapsed": false
   },
   "outputs": [
    {
     "data": {
      "text/html": [
       "<div>\n",
       "<table border=\"1\" class=\"dataframe\">\n",
       "  <thead>\n",
       "    <tr style=\"text-align: right;\">\n",
       "      <th></th>\n",
       "      <th></th>\n",
       "      <th></th>\n",
       "      <th>Female%</th>\n",
       "      <th>White%</th>\n",
       "      <th>Black%</th>\n",
       "      <th>NativeA%</th>\n",
       "      <th>Asian%</th>\n",
       "      <th>PIsland%</th>\n",
       "      <th>TwoRace%</th>\n",
       "      <th>Latino</th>\n",
       "      <th>WhiteNLat%</th>\n",
       "      <th>ForeignBorn%</th>\n",
       "      <th>NonEnglish%</th>\n",
       "    </tr>\n",
       "    <tr>\n",
       "      <th>Racial_Cluster</th>\n",
       "      <th>Winner2012</th>\n",
       "      <th>Winner2016</th>\n",
       "      <th></th>\n",
       "      <th></th>\n",
       "      <th></th>\n",
       "      <th></th>\n",
       "      <th></th>\n",
       "      <th></th>\n",
       "      <th></th>\n",
       "      <th></th>\n",
       "      <th></th>\n",
       "      <th></th>\n",
       "      <th></th>\n",
       "    </tr>\n",
       "  </thead>\n",
       "  <tbody>\n",
       "    <tr>\n",
       "      <th rowspan=\"4\" valign=\"top\">0</th>\n",
       "      <th rowspan=\"2\" valign=\"top\">0</th>\n",
       "      <th>0</th>\n",
       "      <td>195</td>\n",
       "      <td>195</td>\n",
       "      <td>195</td>\n",
       "      <td>195</td>\n",
       "      <td>195</td>\n",
       "      <td>195</td>\n",
       "      <td>195</td>\n",
       "      <td>195</td>\n",
       "      <td>195</td>\n",
       "      <td>195</td>\n",
       "      <td>195</td>\n",
       "    </tr>\n",
       "    <tr>\n",
       "      <th>1</th>\n",
       "      <td>2</td>\n",
       "      <td>2</td>\n",
       "      <td>2</td>\n",
       "      <td>2</td>\n",
       "      <td>2</td>\n",
       "      <td>2</td>\n",
       "      <td>2</td>\n",
       "      <td>2</td>\n",
       "      <td>2</td>\n",
       "      <td>2</td>\n",
       "      <td>2</td>\n",
       "    </tr>\n",
       "    <tr>\n",
       "      <th rowspan=\"2\" valign=\"top\">1</th>\n",
       "      <th>0</th>\n",
       "      <td>23</td>\n",
       "      <td>23</td>\n",
       "      <td>23</td>\n",
       "      <td>23</td>\n",
       "      <td>23</td>\n",
       "      <td>23</td>\n",
       "      <td>23</td>\n",
       "      <td>23</td>\n",
       "      <td>23</td>\n",
       "      <td>23</td>\n",
       "      <td>23</td>\n",
       "    </tr>\n",
       "    <tr>\n",
       "      <th>1</th>\n",
       "      <td>48</td>\n",
       "      <td>48</td>\n",
       "      <td>48</td>\n",
       "      <td>48</td>\n",
       "      <td>48</td>\n",
       "      <td>48</td>\n",
       "      <td>48</td>\n",
       "      <td>48</td>\n",
       "      <td>48</td>\n",
       "      <td>48</td>\n",
       "      <td>48</td>\n",
       "    </tr>\n",
       "    <tr>\n",
       "      <th rowspan=\"4\" valign=\"top\">1</th>\n",
       "      <th rowspan=\"2\" valign=\"top\">0</th>\n",
       "      <th>0</th>\n",
       "      <td>44</td>\n",
       "      <td>44</td>\n",
       "      <td>44</td>\n",
       "      <td>44</td>\n",
       "      <td>44</td>\n",
       "      <td>44</td>\n",
       "      <td>44</td>\n",
       "      <td>44</td>\n",
       "      <td>44</td>\n",
       "      <td>44</td>\n",
       "      <td>44</td>\n",
       "    </tr>\n",
       "    <tr>\n",
       "      <th>1</th>\n",
       "      <td>1</td>\n",
       "      <td>1</td>\n",
       "      <td>1</td>\n",
       "      <td>1</td>\n",
       "      <td>1</td>\n",
       "      <td>1</td>\n",
       "      <td>1</td>\n",
       "      <td>1</td>\n",
       "      <td>1</td>\n",
       "      <td>1</td>\n",
       "      <td>1</td>\n",
       "    </tr>\n",
       "    <tr>\n",
       "      <th rowspan=\"2\" valign=\"top\">1</th>\n",
       "      <th>0</th>\n",
       "      <td>5</td>\n",
       "      <td>5</td>\n",
       "      <td>5</td>\n",
       "      <td>5</td>\n",
       "      <td>5</td>\n",
       "      <td>5</td>\n",
       "      <td>5</td>\n",
       "      <td>5</td>\n",
       "      <td>5</td>\n",
       "      <td>5</td>\n",
       "      <td>5</td>\n",
       "    </tr>\n",
       "    <tr>\n",
       "      <th>1</th>\n",
       "      <td>31</td>\n",
       "      <td>31</td>\n",
       "      <td>31</td>\n",
       "      <td>31</td>\n",
       "      <td>31</td>\n",
       "      <td>31</td>\n",
       "      <td>31</td>\n",
       "      <td>31</td>\n",
       "      <td>31</td>\n",
       "      <td>31</td>\n",
       "      <td>31</td>\n",
       "    </tr>\n",
       "    <tr>\n",
       "      <th rowspan=\"3\" valign=\"top\">2</th>\n",
       "      <th>0</th>\n",
       "      <th>0</th>\n",
       "      <td>2</td>\n",
       "      <td>2</td>\n",
       "      <td>2</td>\n",
       "      <td>2</td>\n",
       "      <td>2</td>\n",
       "      <td>2</td>\n",
       "      <td>2</td>\n",
       "      <td>2</td>\n",
       "      <td>2</td>\n",
       "      <td>2</td>\n",
       "      <td>2</td>\n",
       "    </tr>\n",
       "    <tr>\n",
       "      <th rowspan=\"2\" valign=\"top\">1</th>\n",
       "      <th>0</th>\n",
       "      <td>6</td>\n",
       "      <td>6</td>\n",
       "      <td>6</td>\n",
       "      <td>6</td>\n",
       "      <td>6</td>\n",
       "      <td>6</td>\n",
       "      <td>6</td>\n",
       "      <td>6</td>\n",
       "      <td>6</td>\n",
       "      <td>6</td>\n",
       "      <td>6</td>\n",
       "    </tr>\n",
       "    <tr>\n",
       "      <th>1</th>\n",
       "      <td>54</td>\n",
       "      <td>54</td>\n",
       "      <td>54</td>\n",
       "      <td>54</td>\n",
       "      <td>54</td>\n",
       "      <td>54</td>\n",
       "      <td>54</td>\n",
       "      <td>54</td>\n",
       "      <td>54</td>\n",
       "      <td>54</td>\n",
       "      <td>54</td>\n",
       "    </tr>\n",
       "    <tr>\n",
       "      <th rowspan=\"4\" valign=\"top\">3</th>\n",
       "      <th rowspan=\"2\" valign=\"top\">0</th>\n",
       "      <th>0</th>\n",
       "      <td>381</td>\n",
       "      <td>381</td>\n",
       "      <td>381</td>\n",
       "      <td>381</td>\n",
       "      <td>381</td>\n",
       "      <td>381</td>\n",
       "      <td>381</td>\n",
       "      <td>381</td>\n",
       "      <td>381</td>\n",
       "      <td>381</td>\n",
       "      <td>381</td>\n",
       "    </tr>\n",
       "    <tr>\n",
       "      <th>1</th>\n",
       "      <td>4</td>\n",
       "      <td>4</td>\n",
       "      <td>4</td>\n",
       "      <td>4</td>\n",
       "      <td>4</td>\n",
       "      <td>4</td>\n",
       "      <td>4</td>\n",
       "      <td>4</td>\n",
       "      <td>4</td>\n",
       "      <td>4</td>\n",
       "      <td>4</td>\n",
       "    </tr>\n",
       "    <tr>\n",
       "      <th rowspan=\"2\" valign=\"top\">1</th>\n",
       "      <th>0</th>\n",
       "      <td>43</td>\n",
       "      <td>43</td>\n",
       "      <td>43</td>\n",
       "      <td>43</td>\n",
       "      <td>43</td>\n",
       "      <td>43</td>\n",
       "      <td>43</td>\n",
       "      <td>43</td>\n",
       "      <td>43</td>\n",
       "      <td>43</td>\n",
       "      <td>43</td>\n",
       "    </tr>\n",
       "    <tr>\n",
       "      <th>1</th>\n",
       "      <td>36</td>\n",
       "      <td>36</td>\n",
       "      <td>36</td>\n",
       "      <td>36</td>\n",
       "      <td>36</td>\n",
       "      <td>36</td>\n",
       "      <td>36</td>\n",
       "      <td>36</td>\n",
       "      <td>36</td>\n",
       "      <td>36</td>\n",
       "      <td>36</td>\n",
       "    </tr>\n",
       "  </tbody>\n",
       "</table>\n",
       "</div>"
      ],
      "text/plain": [
       "                                      Female%  White%  Black%  NativeA%  \\\n",
       "Racial_Cluster Winner2012 Winner2016                                      \n",
       "0              0          0               195     195     195       195   \n",
       "                          1                 2       2       2         2   \n",
       "               1          0                23      23      23        23   \n",
       "                          1                48      48      48        48   \n",
       "1              0          0                44      44      44        44   \n",
       "                          1                 1       1       1         1   \n",
       "               1          0                 5       5       5         5   \n",
       "                          1                31      31      31        31   \n",
       "2              0          0                 2       2       2         2   \n",
       "               1          0                 6       6       6         6   \n",
       "                          1                54      54      54        54   \n",
       "3              0          0               381     381     381       381   \n",
       "                          1                 4       4       4         4   \n",
       "               1          0                43      43      43        43   \n",
       "                          1                36      36      36        36   \n",
       "\n",
       "                                      Asian%  PIsland%  TwoRace%  Latino  \\\n",
       "Racial_Cluster Winner2012 Winner2016                                       \n",
       "0              0          0              195       195       195     195   \n",
       "                          1                2         2         2       2   \n",
       "               1          0               23        23        23      23   \n",
       "                          1               48        48        48      48   \n",
       "1              0          0               44        44        44      44   \n",
       "                          1                1         1         1       1   \n",
       "               1          0                5         5         5       5   \n",
       "                          1               31        31        31      31   \n",
       "2              0          0                2         2         2       2   \n",
       "               1          0                6         6         6       6   \n",
       "                          1               54        54        54      54   \n",
       "3              0          0              381       381       381     381   \n",
       "                          1                4         4         4       4   \n",
       "               1          0               43        43        43      43   \n",
       "                          1               36        36        36      36   \n",
       "\n",
       "                                      WhiteNLat%  ForeignBorn%  NonEnglish%  \n",
       "Racial_Cluster Winner2012 Winner2016                                         \n",
       "0              0          0                  195           195          195  \n",
       "                          1                    2             2            2  \n",
       "               1          0                   23            23           23  \n",
       "                          1                   48            48           48  \n",
       "1              0          0                   44            44           44  \n",
       "                          1                    1             1            1  \n",
       "               1          0                    5             5            5  \n",
       "                          1                   31            31           31  \n",
       "2              0          0                    2             2            2  \n",
       "               1          0                    6             6            6  \n",
       "                          1                   54            54           54  \n",
       "3              0          0                  381           381          381  \n",
       "                          1                    4             4            4  \n",
       "               1          0                   43            43           43  \n",
       "                          1                   36            36           36  "
      ]
     },
     "execution_count": 48,
     "metadata": {},
     "output_type": "execute_result"
    }
   ],
   "source": [
    "merged.groupby(['Racial_Cluster','Winner2012','Winner2016']).count()[racial_predictors]"
   ]
  },
  {
   "cell_type": "code",
   "execution_count": 136,
   "metadata": {
    "collapsed": false
   },
   "outputs": [
    {
     "data": {
      "text/html": [
       "<div>\n",
       "<table border=\"1\" class=\"dataframe\">\n",
       "  <thead>\n",
       "    <tr style=\"text-align: right;\">\n",
       "      <th></th>\n",
       "      <th></th>\n",
       "      <th></th>\n",
       "      <th>Female%</th>\n",
       "      <th>White%</th>\n",
       "      <th>Black%</th>\n",
       "      <th>NativeA%</th>\n",
       "      <th>Asian%</th>\n",
       "      <th>PIsland%</th>\n",
       "      <th>TwoRace%</th>\n",
       "      <th>Latino</th>\n",
       "      <th>WhiteNLat%</th>\n",
       "      <th>ForeignBorn%</th>\n",
       "      <th>NonEnglish%</th>\n",
       "      <th>PerCapitaIncome</th>\n",
       "      <th>MedianIncome</th>\n",
       "      <th>%BelowPoverty</th>\n",
       "    </tr>\n",
       "    <tr>\n",
       "      <th>Racial_Cluster</th>\n",
       "      <th>Winner2012</th>\n",
       "      <th>Winner2016</th>\n",
       "      <th></th>\n",
       "      <th></th>\n",
       "      <th></th>\n",
       "      <th></th>\n",
       "      <th></th>\n",
       "      <th></th>\n",
       "      <th></th>\n",
       "      <th></th>\n",
       "      <th></th>\n",
       "      <th></th>\n",
       "      <th></th>\n",
       "      <th></th>\n",
       "      <th></th>\n",
       "      <th></th>\n",
       "    </tr>\n",
       "  </thead>\n",
       "  <tbody>\n",
       "    <tr>\n",
       "      <th rowspan=\"4\" valign=\"top\">3</th>\n",
       "      <th rowspan=\"2\" valign=\"top\">0</th>\n",
       "      <th>0</th>\n",
       "      <td>49.967717</td>\n",
       "      <td>93.928346</td>\n",
       "      <td>2.810236</td>\n",
       "      <td>0.798688</td>\n",
       "      <td>0.877953</td>\n",
       "      <td>0.049869</td>\n",
       "      <td>1.518110</td>\n",
       "      <td>4.246719</td>\n",
       "      <td>90.232808</td>\n",
       "      <td>2.709449</td>\n",
       "      <td>5.180840</td>\n",
       "      <td>24007.889764</td>\n",
       "      <td>46544.393701</td>\n",
       "      <td>14.752493</td>\n",
       "    </tr>\n",
       "    <tr>\n",
       "      <th>1</th>\n",
       "      <td>49.075000</td>\n",
       "      <td>89.425000</td>\n",
       "      <td>4.075000</td>\n",
       "      <td>0.275000</td>\n",
       "      <td>4.350000</td>\n",
       "      <td>0.075000</td>\n",
       "      <td>1.725000</td>\n",
       "      <td>4.125000</td>\n",
       "      <td>85.950000</td>\n",
       "      <td>7.150000</td>\n",
       "      <td>9.425000</td>\n",
       "      <td>28289.250000</td>\n",
       "      <td>54055.500000</td>\n",
       "      <td>20.800000</td>\n",
       "    </tr>\n",
       "    <tr>\n",
       "      <th rowspan=\"2\" valign=\"top\">1</th>\n",
       "      <th>0</th>\n",
       "      <td>49.653488</td>\n",
       "      <td>93.502326</td>\n",
       "      <td>3.032558</td>\n",
       "      <td>0.860465</td>\n",
       "      <td>0.976744</td>\n",
       "      <td>0.039535</td>\n",
       "      <td>1.602326</td>\n",
       "      <td>4.248837</td>\n",
       "      <td>89.876744</td>\n",
       "      <td>2.537209</td>\n",
       "      <td>5.746512</td>\n",
       "      <td>24424.558140</td>\n",
       "      <td>47517.046512</td>\n",
       "      <td>14.395349</td>\n",
       "    </tr>\n",
       "    <tr>\n",
       "      <th>1</th>\n",
       "      <td>49.458333</td>\n",
       "      <td>92.400000</td>\n",
       "      <td>1.988889</td>\n",
       "      <td>1.494444</td>\n",
       "      <td>2.088889</td>\n",
       "      <td>0.066667</td>\n",
       "      <td>1.963889</td>\n",
       "      <td>6.083333</td>\n",
       "      <td>87.138889</td>\n",
       "      <td>4.777778</td>\n",
       "      <td>7.566667</td>\n",
       "      <td>29582.777778</td>\n",
       "      <td>55095.527778</td>\n",
       "      <td>13.816667</td>\n",
       "    </tr>\n",
       "  </tbody>\n",
       "</table>\n",
       "</div>"
      ],
      "text/plain": [
       "                                        Female%     White%    Black%  \\\n",
       "Racial_Cluster Winner2012 Winner2016                                   \n",
       "3              0          0           49.967717  93.928346  2.810236   \n",
       "                          1           49.075000  89.425000  4.075000   \n",
       "               1          0           49.653488  93.502326  3.032558   \n",
       "                          1           49.458333  92.400000  1.988889   \n",
       "\n",
       "                                      NativeA%    Asian%  PIsland%  TwoRace%  \\\n",
       "Racial_Cluster Winner2012 Winner2016                                           \n",
       "3              0          0           0.798688  0.877953  0.049869  1.518110   \n",
       "                          1           0.275000  4.350000  0.075000  1.725000   \n",
       "               1          0           0.860465  0.976744  0.039535  1.602326   \n",
       "                          1           1.494444  2.088889  0.066667  1.963889   \n",
       "\n",
       "                                        Latino  WhiteNLat%  ForeignBorn%  \\\n",
       "Racial_Cluster Winner2012 Winner2016                                       \n",
       "3              0          0           4.246719   90.232808      2.709449   \n",
       "                          1           4.125000   85.950000      7.150000   \n",
       "               1          0           4.248837   89.876744      2.537209   \n",
       "                          1           6.083333   87.138889      4.777778   \n",
       "\n",
       "                                      NonEnglish%  PerCapitaIncome  \\\n",
       "Racial_Cluster Winner2012 Winner2016                                 \n",
       "3              0          0              5.180840     24007.889764   \n",
       "                          1              9.425000     28289.250000   \n",
       "               1          0              5.746512     24424.558140   \n",
       "                          1              7.566667     29582.777778   \n",
       "\n",
       "                                      MedianIncome  %BelowPoverty  \n",
       "Racial_Cluster Winner2012 Winner2016                               \n",
       "3              0          0           46544.393701      14.752493  \n",
       "                          1           54055.500000      20.800000  \n",
       "               1          0           47517.046512      14.395349  \n",
       "                          1           55095.527778      13.816667  "
      ]
     },
     "execution_count": 136,
     "metadata": {},
     "output_type": "execute_result"
    }
   ],
   "source": [
    "merged[merged['Racial_Cluster']==3].groupby(['Racial_Cluster','Winner2012','Winner2016']).mean()[racial_predictors+[\"PerCapitaIncome\", \"MedianIncome\", \"%BelowPoverty\"]]"
   ]
  },
  {
   "cell_type": "code",
   "execution_count": 60,
   "metadata": {
    "collapsed": false
   },
   "outputs": [
    {
     "data": {
      "text/html": [
       "<div>\n",
       "<table border=\"1\" class=\"dataframe\">\n",
       "  <thead>\n",
       "    <tr style=\"text-align: right;\">\n",
       "      <th></th>\n",
       "      <th></th>\n",
       "      <th></th>\n",
       "      <th>Female%</th>\n",
       "      <th>White%</th>\n",
       "      <th>Black%</th>\n",
       "      <th>NativeA%</th>\n",
       "      <th>Asian%</th>\n",
       "      <th>PIsland%</th>\n",
       "      <th>TwoRace%</th>\n",
       "      <th>Latino</th>\n",
       "      <th>WhiteNLat%</th>\n",
       "      <th>ForeignBorn%</th>\n",
       "      <th>NonEnglish%</th>\n",
       "      <th>PerCapitaIncome</th>\n",
       "      <th>MedianIncome</th>\n",
       "      <th>%BelowPoverty</th>\n",
       "    </tr>\n",
       "    <tr>\n",
       "      <th>Racial_Cluster</th>\n",
       "      <th>Winner2012</th>\n",
       "      <th>Winner2016</th>\n",
       "      <th></th>\n",
       "      <th></th>\n",
       "      <th></th>\n",
       "      <th></th>\n",
       "      <th></th>\n",
       "      <th></th>\n",
       "      <th></th>\n",
       "      <th></th>\n",
       "      <th></th>\n",
       "      <th></th>\n",
       "      <th></th>\n",
       "      <th></th>\n",
       "      <th></th>\n",
       "      <th></th>\n",
       "    </tr>\n",
       "  </thead>\n",
       "  <tbody>\n",
       "    <tr>\n",
       "      <th rowspan=\"4\" valign=\"top\">0</th>\n",
       "      <th rowspan=\"2\" valign=\"top\">0</th>\n",
       "      <th>0</th>\n",
       "      <td>49.556923</td>\n",
       "      <td>72.237949</td>\n",
       "      <td>23.547179</td>\n",
       "      <td>1.055897</td>\n",
       "      <td>1.196923</td>\n",
       "      <td>0.100513</td>\n",
       "      <td>1.864103</td>\n",
       "      <td>5.809231</td>\n",
       "      <td>67.459487</td>\n",
       "      <td>3.965641</td>\n",
       "      <td>6.327179</td>\n",
       "      <td>21901.138462</td>\n",
       "      <td>44340.512821</td>\n",
       "      <td>18.514872</td>\n",
       "    </tr>\n",
       "    <tr>\n",
       "      <th>1</th>\n",
       "      <td>51.900000</td>\n",
       "      <td>59.000000</td>\n",
       "      <td>33.950000</td>\n",
       "      <td>0.400000</td>\n",
       "      <td>4.250000</td>\n",
       "      <td>0.100000</td>\n",
       "      <td>2.300000</td>\n",
       "      <td>9.550000</td>\n",
       "      <td>51.250000</td>\n",
       "      <td>11.250000</td>\n",
       "      <td>15.250000</td>\n",
       "      <td>29184.000000</td>\n",
       "      <td>62350.500000</td>\n",
       "      <td>12.000000</td>\n",
       "    </tr>\n",
       "    <tr>\n",
       "      <th rowspan=\"2\" valign=\"top\">1</th>\n",
       "      <th>0</th>\n",
       "      <td>50.760870</td>\n",
       "      <td>70.121739</td>\n",
       "      <td>24.356522</td>\n",
       "      <td>2.082609</td>\n",
       "      <td>1.165217</td>\n",
       "      <td>0.065217</td>\n",
       "      <td>2.191304</td>\n",
       "      <td>4.808696</td>\n",
       "      <td>66.313043</td>\n",
       "      <td>3.560870</td>\n",
       "      <td>5.569565</td>\n",
       "      <td>22791.434783</td>\n",
       "      <td>44179.782609</td>\n",
       "      <td>17.669565</td>\n",
       "    </tr>\n",
       "    <tr>\n",
       "      <th>1</th>\n",
       "      <td>51.902083</td>\n",
       "      <td>68.179167</td>\n",
       "      <td>24.908333</td>\n",
       "      <td>1.027083</td>\n",
       "      <td>3.404167</td>\n",
       "      <td>0.081250</td>\n",
       "      <td>2.377083</td>\n",
       "      <td>6.629167</td>\n",
       "      <td>62.850000</td>\n",
       "      <td>7.114583</td>\n",
       "      <td>10.145833</td>\n",
       "      <td>26469.354167</td>\n",
       "      <td>48176.708333</td>\n",
       "      <td>18.520833</td>\n",
       "    </tr>\n",
       "  </tbody>\n",
       "</table>\n",
       "</div>"
      ],
      "text/plain": [
       "                                        Female%     White%     Black%  \\\n",
       "Racial_Cluster Winner2012 Winner2016                                    \n",
       "0              0          0           49.556923  72.237949  23.547179   \n",
       "                          1           51.900000  59.000000  33.950000   \n",
       "               1          0           50.760870  70.121739  24.356522   \n",
       "                          1           51.902083  68.179167  24.908333   \n",
       "\n",
       "                                      NativeA%    Asian%  PIsland%  TwoRace%  \\\n",
       "Racial_Cluster Winner2012 Winner2016                                           \n",
       "0              0          0           1.055897  1.196923  0.100513  1.864103   \n",
       "                          1           0.400000  4.250000  0.100000  2.300000   \n",
       "               1          0           2.082609  1.165217  0.065217  2.191304   \n",
       "                          1           1.027083  3.404167  0.081250  2.377083   \n",
       "\n",
       "                                        Latino  WhiteNLat%  ForeignBorn%  \\\n",
       "Racial_Cluster Winner2012 Winner2016                                       \n",
       "0              0          0           5.809231   67.459487      3.965641   \n",
       "                          1           9.550000   51.250000     11.250000   \n",
       "               1          0           4.808696   66.313043      3.560870   \n",
       "                          1           6.629167   62.850000      7.114583   \n",
       "\n",
       "                                      NonEnglish%  PerCapitaIncome  \\\n",
       "Racial_Cluster Winner2012 Winner2016                                 \n",
       "0              0          0              6.327179     21901.138462   \n",
       "                          1             15.250000     29184.000000   \n",
       "               1          0              5.569565     22791.434783   \n",
       "                          1             10.145833     26469.354167   \n",
       "\n",
       "                                      MedianIncome  %BelowPoverty  \n",
       "Racial_Cluster Winner2012 Winner2016                               \n",
       "0              0          0           44340.512821      18.514872  \n",
       "                          1           62350.500000      12.000000  \n",
       "               1          0           44179.782609      17.669565  \n",
       "                          1           48176.708333      18.520833  "
      ]
     },
     "execution_count": 60,
     "metadata": {},
     "output_type": "execute_result"
    }
   ],
   "source": [
    "merged[merged['Racial_Cluster']==0].groupby(['Racial_Cluster','Winner2012','Winner2016']).mean()[racial_predictors+[\"PerCapitaIncome\", \"MedianIncome\", \"%BelowPoverty\"]]"
   ]
  },
  {
   "cell_type": "code",
   "execution_count": 138,
   "metadata": {
    "collapsed": false,
    "scrolled": true
   },
   "outputs": [
    {
     "data": {
      "image/png": "[encoded data removed]",
      "text/plain": [
       "<matplotlib.figure.Figure at 0x7fbf5f5ebba8>"
      ]
     },
     "metadata": {},
     "output_type": "display_data"
    },
    {
     "data": {
      "image/png": "[encoded data removed]",
      "text/plain": [
       "<matplotlib.figure.Figure at 0x7fbf5f6d90b8>"
      ]
     },
     "metadata": {},
     "output_type": "display_data"
    }
   ],
   "source": [
    "#((merged['Racial_Cluster']==0)|\n",
    "with plt.style.context('fivethirtyeight'):\n",
    "    merged[(merged['Racial_Cluster']==3)].groupby(['Winner_2012','Winner_2016']).mean()[['White%']].plot(kind=\"bar\",rot=0)\n",
    "    merged[(merged['Racial_Cluster']==3)].groupby(['Winner_2012','Winner_2016']).mean()[['PerCapitaIncome','MedianIncome']].plot(rot=0,kind=\"bar\")\n",
    "    plt.legend(loc='lower left')"
   ]
  },
  {
   "cell_type": "code",
   "execution_count": 122,
   "metadata": {
    "collapsed": false
   },
   "outputs": [
    {
     "data": {
      "text/plain": [
       "Winner_2012  Winner_2016\n",
       "D2012        D2016          16.504762\n",
       "             R2016          15.536364\n",
       "R2012        D2016          17.866667\n",
       "             R2016          16.026215\n",
       "Name: %BelowPoverty, dtype: float64"
      ]
     },
     "execution_count": 122,
     "metadata": {},
     "output_type": "execute_result"
    }
   ],
   "source": [
    "merged[((merged['Racial_Cluster']==0)|(merged['Racial_Cluster']==3))].groupby(['Winner_2012','Winner_2016']).mean()['%BelowPoverty']"
   ]
  },
  {
   "cell_type": "code",
   "execution_count": 64,
   "metadata": {
    "collapsed": false
   },
   "outputs": [],
   "source": [
    "model=AgglomerativeClustering(n_clusters=5)\n",
    "merged['Owner_Cluster']=model.fit_predict(merged[racial_econo_predictors])"
   ]
  },
  {
   "cell_type": "code",
   "execution_count": 160,
   "metadata": {
    "collapsed": false
   },
   "outputs": [
    {
     "name": "stdout",
     "output_type": "stream",
     "text": [
      "SVC overall accuracy for training is0.837714285714\n",
      "KMeans overall accuracy for training is0.804571428571\n",
      "SVC overall accuracy for predictive testing is0.892571428571\n",
      "KMeans overall accuracy for predictive testing is0.848\n",
      "SVC subset accuracy for testing is0.835579514825\n",
      "KMeans subset accuracy for testing is0.792452830189\n",
      "SVC subset accuracy for predictive testing is0.878706199461\n",
      "KMeans subset accuracy for predictive testing is0.814016172507\n"
     ]
    }
   ],
   "source": [
    "clusteringalgo([\"Black-owned%\",\"Native-owned%\",\"Asian-owned%\",\"PIslnder-owned%\",\"Woman-owned\"],'Winner2012','Winner2016',\n",
    "               merged,merged[merged['Owner_Cluster']==1])"
   ]
  },
  {
   "cell_type": "code",
   "execution_count": 175,
   "metadata": {
    "collapsed": false
   },
   "outputs": [
    {
     "data": {
      "text/plain": [
       "Winner2012  Winner2016\n",
       "0           0             1.580682\n",
       "            1             1.550000\n",
       "1           0             2.163333\n",
       "            1             2.874667\n",
       "Name: Black-owned%, dtype: float64"
      ]
     },
     "execution_count": 175,
     "metadata": {},
     "output_type": "execute_result"
    }
   ],
   "source": [
    "merged[merged['Owner_Cluster']==1].groupby(['Winner2012','Winner2016']).mean()['Black-owned%']"
   ]
  },
  {
   "cell_type": "code",
   "execution_count": 176,
   "metadata": {
    "collapsed": false,
    "scrolled": true
   },
   "outputs": [
    {
     "data": {
      "image/png": "[encoded data removed]",
      "text/plain": [
       "<matplotlib.figure.Figure at 0x7fbf5f75c080>"
      ]
     },
     "metadata": {},
     "output_type": "display_data"
    },
    {
     "data": {
      "image/png": "[encoded data removed]",
      "text/plain": [
       "<matplotlib.figure.Figure at 0x7fbf5f01ada0>"
      ]
     },
     "metadata": {},
     "output_type": "display_data"
    }
   ],
   "source": [
    "with plt.style.context('fivethirtyeight'):\n",
    "    merged[((merged['Owner_Cluster']==1)|(merged['Owner_Cluster']==1))].groupby(['Winner_2012','Winner_2016']).mean()[['Black%']].plot(kind=\"bar\",rot=0,legend=True,color=\"red\")\n",
    "    merged[((merged['Owner_Cluster']==1)|(merged['Owner_Cluster']==1))].groupby(['Winner_2012','Winner_2016']).mean()[['Black-owned%']].plot(kind=\"bar\",rot=0,legend=True,color=\"red\")"
   ]
  },
  {
   "cell_type": "code",
   "execution_count": 87,
   "metadata": {
    "collapsed": false,
    "scrolled": true
   },
   "outputs": [
    {
     "data": {
      "text/plain": [
       "Winner_2012  Winner_2016\n",
       "D2012        D2016          0.068421\n",
       "             R2016          0.000000\n",
       "R2012        R2016          0.251316\n",
       "Name: Black-owned%, dtype: float64"
      ]
     },
     "execution_count": 87,
     "metadata": {},
     "output_type": "execute_result"
    }
   ],
   "source": []
  },
  {
   "cell_type": "code",
   "execution_count": 147,
   "metadata": {
    "collapsed": false
   },
   "outputs": [
    {
     "data": {
      "image/png": "[encoded data removed]",
      "text/plain": [
       "<matplotlib.figure.Figure at 0x7fbf5f5fe748>"
      ]
     },
     "metadata": {},
     "output_type": "display_data"
    }
   ],
   "source": [
    "with plt.style.context('fivethirtyeight'):\n",
    "    merged[merged['Racial_Cluster']==3].groupby(['Winner_2012','Winner_2016']).mean()[['votes_gop_2012','votes_gop_2016','votes_dem_2012','votes_dem_2016']].plot(rot=False,kind=\"bar\")\n",
    "    plt.legend(loc='center left', bbox_to_anchor=(1.0, 0.5))"
   ]
  },
  {
   "cell_type": "code",
   "execution_count": 130,
   "metadata": {
    "collapsed": false
   },
   "outputs": [
    {
     "ename": "KeyError",
     "evalue": "'Racial_Cluster3'",
     "output_type": "error",
     "traceback": [
      "\u001b[0;31m---------------------------------------------------------------------------\u001b[0m",
      "\u001b[0;31mKeyError\u001b[0m                                  Traceback (most recent call last)",
      "\u001b[0;32m/opt/conda/lib/python3.5/site-packages/pandas/indexes/base.py\u001b[0m in \u001b[0;36mget_loc\u001b[0;34m(self, key, method, tolerance)\u001b[0m\n\u001b[1;32m   1944\u001b[0m             \u001b[0;32mtry\u001b[0m\u001b[0;34m:\u001b[0m\u001b[0;34m\u001b[0m\u001b[0m\n\u001b[0;32m-> 1945\u001b[0;31m                 \u001b[0;32mreturn\u001b[0m \u001b[0mself\u001b[0m\u001b[0;34m.\u001b[0m\u001b[0m_engine\u001b[0m\u001b[0;34m.\u001b[0m\u001b[0mget_loc\u001b[0m\u001b[0;34m(\u001b[0m\u001b[0mkey\u001b[0m\u001b[0;34m)\u001b[0m\u001b[0;34m\u001b[0m\u001b[0m\n\u001b[0m\u001b[1;32m   1946\u001b[0m             \u001b[0;32mexcept\u001b[0m \u001b[0mKeyError\u001b[0m\u001b[0;34m:\u001b[0m\u001b[0;34m\u001b[0m\u001b[0m\n",
      "\u001b[0;32mpandas/index.pyx\u001b[0m in \u001b[0;36mpandas.index.IndexEngine.get_loc (pandas/index.c:4154)\u001b[0;34m()\u001b[0m\n",
      "\u001b[0;32mpandas/index.pyx\u001b[0m in \u001b[0;36mpandas.index.IndexEngine.get_loc (pandas/index.c:4018)\u001b[0;34m()\u001b[0m\n",
      "\u001b[0;32mpandas/hashtable.pyx\u001b[0m in \u001b[0;36mpandas.hashtable.PyObjectHashTable.get_item (pandas/hashtable.c:12368)\u001b[0;34m()\u001b[0m\n",
      "\u001b[0;32mpandas/hashtable.pyx\u001b[0m in \u001b[0;36mpandas.hashtable.PyObjectHashTable.get_item (pandas/hashtable.c:12322)\u001b[0;34m()\u001b[0m\n",
      "\u001b[0;31mKeyError\u001b[0m: 'Racial_Cluster3'",
      "\nDuring handling of the above exception, another exception occurred:\n",
      "\u001b[0;31mKeyError\u001b[0m                                  Traceback (most recent call last)",
      "\u001b[0;32m<ipython-input-130-c27b60c3b09b>\u001b[0m in \u001b[0;36m<module>\u001b[0;34m()\u001b[0m\n\u001b[0;32m----> 1\u001b[0;31m \u001b[0mmerged\u001b[0m\u001b[0;34m[\u001b[0m\u001b[0;34m'Racial_Cluster3'\u001b[0m\u001b[0;34m]\u001b[0m\u001b[0;34m\u001b[0m\u001b[0m\n\u001b[0m",
      "\u001b[0;32m/opt/conda/lib/python3.5/site-packages/pandas/core/frame.py\u001b[0m in \u001b[0;36m__getitem__\u001b[0;34m(self, key)\u001b[0m\n\u001b[1;32m   1995\u001b[0m             \u001b[0;32mreturn\u001b[0m \u001b[0mself\u001b[0m\u001b[0;34m.\u001b[0m\u001b[0m_getitem_multilevel\u001b[0m\u001b[0;34m(\u001b[0m\u001b[0mkey\u001b[0m\u001b[0;34m)\u001b[0m\u001b[0;34m\u001b[0m\u001b[0m\n\u001b[1;32m   1996\u001b[0m         \u001b[0;32melse\u001b[0m\u001b[0;34m:\u001b[0m\u001b[0;34m\u001b[0m\u001b[0m\n\u001b[0;32m-> 1997\u001b[0;31m             \u001b[0;32mreturn\u001b[0m \u001b[0mself\u001b[0m\u001b[0;34m.\u001b[0m\u001b[0m_getitem_column\u001b[0m\u001b[0;34m(\u001b[0m\u001b[0mkey\u001b[0m\u001b[0;34m)\u001b[0m\u001b[0;34m\u001b[0m\u001b[0m\n\u001b[0m\u001b[1;32m   1998\u001b[0m \u001b[0;34m\u001b[0m\u001b[0m\n\u001b[1;32m   1999\u001b[0m     \u001b[0;32mdef\u001b[0m \u001b[0m_getitem_column\u001b[0m\u001b[0;34m(\u001b[0m\u001b[0mself\u001b[0m\u001b[0;34m,\u001b[0m \u001b[0mkey\u001b[0m\u001b[0;34m)\u001b[0m\u001b[0;34m:\u001b[0m\u001b[0;34m\u001b[0m\u001b[0m\n",
      "\u001b[0;32m/opt/conda/lib/python3.5/site-packages/pandas/core/frame.py\u001b[0m in \u001b[0;36m_getitem_column\u001b[0;34m(self, key)\u001b[0m\n\u001b[1;32m   2002\u001b[0m         \u001b[0;31m# get column\u001b[0m\u001b[0;34m\u001b[0m\u001b[0;34m\u001b[0m\u001b[0m\n\u001b[1;32m   2003\u001b[0m         \u001b[0;32mif\u001b[0m \u001b[0mself\u001b[0m\u001b[0;34m.\u001b[0m\u001b[0mcolumns\u001b[0m\u001b[0;34m.\u001b[0m\u001b[0mis_unique\u001b[0m\u001b[0;34m:\u001b[0m\u001b[0;34m\u001b[0m\u001b[0m\n\u001b[0;32m-> 2004\u001b[0;31m             \u001b[0;32mreturn\u001b[0m \u001b[0mself\u001b[0m\u001b[0;34m.\u001b[0m\u001b[0m_get_item_cache\u001b[0m\u001b[0;34m(\u001b[0m\u001b[0mkey\u001b[0m\u001b[0;34m)\u001b[0m\u001b[0;34m\u001b[0m\u001b[0m\n\u001b[0m\u001b[1;32m   2005\u001b[0m \u001b[0;34m\u001b[0m\u001b[0m\n\u001b[1;32m   2006\u001b[0m         \u001b[0;31m# duplicate columns & possible reduce dimensionality\u001b[0m\u001b[0;34m\u001b[0m\u001b[0;34m\u001b[0m\u001b[0m\n",
      "\u001b[0;32m/opt/conda/lib/python3.5/site-packages/pandas/core/generic.py\u001b[0m in \u001b[0;36m_get_item_cache\u001b[0;34m(self, item)\u001b[0m\n\u001b[1;32m   1348\u001b[0m         \u001b[0mres\u001b[0m \u001b[0;34m=\u001b[0m \u001b[0mcache\u001b[0m\u001b[0;34m.\u001b[0m\u001b[0mget\u001b[0m\u001b[0;34m(\u001b[0m\u001b[0mitem\u001b[0m\u001b[0;34m)\u001b[0m\u001b[0;34m\u001b[0m\u001b[0m\n\u001b[1;32m   1349\u001b[0m         \u001b[0;32mif\u001b[0m \u001b[0mres\u001b[0m \u001b[0;32mis\u001b[0m \u001b[0;32mNone\u001b[0m\u001b[0;34m:\u001b[0m\u001b[0;34m\u001b[0m\u001b[0m\n\u001b[0;32m-> 1350\u001b[0;31m             \u001b[0mvalues\u001b[0m \u001b[0;34m=\u001b[0m \u001b[0mself\u001b[0m\u001b[0;34m.\u001b[0m\u001b[0m_data\u001b[0m\u001b[0;34m.\u001b[0m\u001b[0mget\u001b[0m\u001b[0;34m(\u001b[0m\u001b[0mitem\u001b[0m\u001b[0;34m)\u001b[0m\u001b[0;34m\u001b[0m\u001b[0m\n\u001b[0m\u001b[1;32m   1351\u001b[0m             \u001b[0mres\u001b[0m \u001b[0;34m=\u001b[0m \u001b[0mself\u001b[0m\u001b[0;34m.\u001b[0m\u001b[0m_box_item_values\u001b[0m\u001b[0;34m(\u001b[0m\u001b[0mitem\u001b[0m\u001b[0;34m,\u001b[0m \u001b[0mvalues\u001b[0m\u001b[0;34m)\u001b[0m\u001b[0;34m\u001b[0m\u001b[0m\n\u001b[1;32m   1352\u001b[0m             \u001b[0mcache\u001b[0m\u001b[0;34m[\u001b[0m\u001b[0mitem\u001b[0m\u001b[0;34m]\u001b[0m \u001b[0;34m=\u001b[0m \u001b[0mres\u001b[0m\u001b[0;34m\u001b[0m\u001b[0m\n",
      "\u001b[0;32m/opt/conda/lib/python3.5/site-packages/pandas/core/internals.py\u001b[0m in \u001b[0;36mget\u001b[0;34m(self, item, fastpath)\u001b[0m\n\u001b[1;32m   3288\u001b[0m \u001b[0;34m\u001b[0m\u001b[0m\n\u001b[1;32m   3289\u001b[0m             \u001b[0;32mif\u001b[0m \u001b[0;32mnot\u001b[0m \u001b[0misnull\u001b[0m\u001b[0;34m(\u001b[0m\u001b[0mitem\u001b[0m\u001b[0;34m)\u001b[0m\u001b[0;34m:\u001b[0m\u001b[0;34m\u001b[0m\u001b[0m\n\u001b[0;32m-> 3290\u001b[0;31m                 \u001b[0mloc\u001b[0m \u001b[0;34m=\u001b[0m \u001b[0mself\u001b[0m\u001b[0;34m.\u001b[0m\u001b[0mitems\u001b[0m\u001b[0;34m.\u001b[0m\u001b[0mget_loc\u001b[0m\u001b[0;34m(\u001b[0m\u001b[0mitem\u001b[0m\u001b[0;34m)\u001b[0m\u001b[0;34m\u001b[0m\u001b[0m\n\u001b[0m\u001b[1;32m   3291\u001b[0m             \u001b[0;32melse\u001b[0m\u001b[0;34m:\u001b[0m\u001b[0;34m\u001b[0m\u001b[0m\n\u001b[1;32m   3292\u001b[0m                 \u001b[0mindexer\u001b[0m \u001b[0;34m=\u001b[0m \u001b[0mnp\u001b[0m\u001b[0;34m.\u001b[0m\u001b[0marange\u001b[0m\u001b[0;34m(\u001b[0m\u001b[0mlen\u001b[0m\u001b[0;34m(\u001b[0m\u001b[0mself\u001b[0m\u001b[0;34m.\u001b[0m\u001b[0mitems\u001b[0m\u001b[0;34m)\u001b[0m\u001b[0;34m)\u001b[0m\u001b[0;34m[\u001b[0m\u001b[0misnull\u001b[0m\u001b[0;34m(\u001b[0m\u001b[0mself\u001b[0m\u001b[0;34m.\u001b[0m\u001b[0mitems\u001b[0m\u001b[0;34m)\u001b[0m\u001b[0;34m]\u001b[0m\u001b[0;34m\u001b[0m\u001b[0m\n",
      "\u001b[0;32m/opt/conda/lib/python3.5/site-packages/pandas/indexes/base.py\u001b[0m in \u001b[0;36mget_loc\u001b[0;34m(self, key, method, tolerance)\u001b[0m\n\u001b[1;32m   1945\u001b[0m                 \u001b[0;32mreturn\u001b[0m \u001b[0mself\u001b[0m\u001b[0;34m.\u001b[0m\u001b[0m_engine\u001b[0m\u001b[0;34m.\u001b[0m\u001b[0mget_loc\u001b[0m\u001b[0;34m(\u001b[0m\u001b[0mkey\u001b[0m\u001b[0;34m)\u001b[0m\u001b[0;34m\u001b[0m\u001b[0m\n\u001b[1;32m   1946\u001b[0m             \u001b[0;32mexcept\u001b[0m \u001b[0mKeyError\u001b[0m\u001b[0;34m:\u001b[0m\u001b[0;34m\u001b[0m\u001b[0m\n\u001b[0;32m-> 1947\u001b[0;31m                 \u001b[0;32mreturn\u001b[0m \u001b[0mself\u001b[0m\u001b[0;34m.\u001b[0m\u001b[0m_engine\u001b[0m\u001b[0;34m.\u001b[0m\u001b[0mget_loc\u001b[0m\u001b[0;34m(\u001b[0m\u001b[0mself\u001b[0m\u001b[0;34m.\u001b[0m\u001b[0m_maybe_cast_indexer\u001b[0m\u001b[0;34m(\u001b[0m\u001b[0mkey\u001b[0m\u001b[0;34m)\u001b[0m\u001b[0;34m)\u001b[0m\u001b[0;34m\u001b[0m\u001b[0m\n\u001b[0m\u001b[1;32m   1948\u001b[0m \u001b[0;34m\u001b[0m\u001b[0m\n\u001b[1;32m   1949\u001b[0m         \u001b[0mindexer\u001b[0m \u001b[0;34m=\u001b[0m \u001b[0mself\u001b[0m\u001b[0;34m.\u001b[0m\u001b[0mget_indexer\u001b[0m\u001b[0;34m(\u001b[0m\u001b[0;34m[\u001b[0m\u001b[0mkey\u001b[0m\u001b[0;34m]\u001b[0m\u001b[0;34m,\u001b[0m \u001b[0mmethod\u001b[0m\u001b[0;34m=\u001b[0m\u001b[0mmethod\u001b[0m\u001b[0;34m,\u001b[0m \u001b[0mtolerance\u001b[0m\u001b[0;34m=\u001b[0m\u001b[0mtolerance\u001b[0m\u001b[0;34m)\u001b[0m\u001b[0;34m\u001b[0m\u001b[0m\n",
      "\u001b[0;32mpandas/index.pyx\u001b[0m in \u001b[0;36mpandas.index.IndexEngine.get_loc (pandas/index.c:4154)\u001b[0;34m()\u001b[0m\n",
      "\u001b[0;32mpandas/index.pyx\u001b[0m in \u001b[0;36mpandas.index.IndexEngine.get_loc (pandas/index.c:4018)\u001b[0;34m()\u001b[0m\n",
      "\u001b[0;32mpandas/hashtable.pyx\u001b[0m in \u001b[0;36mpandas.hashtable.PyObjectHashTable.get_item (pandas/hashtable.c:12368)\u001b[0;34m()\u001b[0m\n",
      "\u001b[0;32mpandas/hashtable.pyx\u001b[0m in \u001b[0;36mpandas.hashtable.PyObjectHashTable.get_item (pandas/hashtable.c:12322)\u001b[0;34m()\u001b[0m\n",
      "\u001b[0;31mKeyError\u001b[0m: 'Racial_Cluster3'"
     ]
    }
   ],
   "source": [
    "merged['Racial_Cluster3']"
   ]
  },
  {
   "cell_type": "code",
   "execution_count": null,
   "metadata": {
    "collapsed": true
   },
   "outputs": [],
   "source": []
  }
 ],
 "metadata": {
  "kernelspec": {
   "display_name": "Python 3",
   "language": "python",
   "name": "python3"
  },
  "language_info": {
   "codemirror_mode": {
    "name": "ipython",
    "version": 3
   },
   "file_extension": ".py",
   "mimetype": "text/x-python",
   "name": "python",
   "nbconvert_exporter": "python",
   "pygments_lexer": "ipython3",
   "version": "3.5.2"
  }
 },
 "nbformat": 4,
 "nbformat_minor": 1
}
